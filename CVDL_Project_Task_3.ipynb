{
  "nbformat": 4,
  "nbformat_minor": 0,
  "metadata": {
    "colab": {
      "provenance": [],
      "gpuType": "T4",
      "toc_visible": true,
      "mount_file_id": "1jh93aGUA21ksRlAU3C-L8LQTTOGRZZUy",
      "authorship_tag": "ABX9TyOnrg6GpcD66IHTcBztzPMY",
      "include_colab_link": true
    },
    "kernelspec": {
      "name": "python3",
      "display_name": "Python 3"
    },
    "language_info": {
      "name": "python"
    },
    "accelerator": "GPU"
  },
  "cells": [
    {
      "cell_type": "markdown",
      "metadata": {
        "id": "view-in-github",
        "colab_type": "text"
      },
      "source": [
        "<a href=\"https://colab.research.google.com/github/tetianasokolova/computer-vision-project/blob/main/CVDL_Project_Task_3.ipynb\" target=\"_parent\"><img src=\"https://colab.research.google.com/assets/colab-badge.svg\" alt=\"Open In Colab\"/></a>"
      ]
    },
    {
      "cell_type": "markdown",
      "source": [
        "# Project Task 3 of Tetiana Sokolova\n",
        "**Link to GitHub**: https://github.com/tetianasokolova/computer-vision-project.git"
      ],
      "metadata": {
        "id": "43Zy60v-6tJP"
      }
    },
    {
      "cell_type": "markdown",
      "source": [
        "## Instructions\n",
        "**Оптимізація гіперпараметрів моделі нейронної мережі**\n",
        "### 1 Ручна оптимізація\n",
        "Запустіть кілька експериментів з різними налаштуваннями гіперпараметрів:\n",
        "- Виберіть мінімум три варіанти для кожного з золотих параметрів\n",
        "(наприклад, для learning rate спробуйте 0.001, 0.0001, 0.01).\n",
        "- Змінюйте кількість нейронів у повнозв'язаних шарах та кількість\n",
        "згорткових шарів.\n",
        "\n",
        "### 2 Автоматизована оптимізація\n",
        "- Використайте бібліотеки, такі як GridSearchCV, RandomizedSearchCV\n",
        "або Optuna для автоматизованого підбору гіперпараметрів.\n",
        "- Налаштуйте гіпер параметри крос-валідації, щоб оцінити продуктивність\n",
        "моделі при різних конфігураціях.\n",
        "\n",
        "### 3 Оцінка продуктивності моделі\n",
        "3.1 Запустіть модель з оптимізованими гіперпараметрами:\n",
        "- Використайте кращі знайдені значення для тренування моделі.\n",
        "3.2 Оцінка результатів:\n",
        "- Оцініть модель, використовуючи попередньо визначені метрики\n",
        "(точність, F1-score, матриця плутанини).\n",
        "3.3 Порівняйте результати з моделью, побудованою попередньо, для\n",
        "визначення зміни значення функції втрат від зміни гіперпараметрів.\n",
        "\n",
        "\n",
        "### 4 Візуалізація результатів\n",
        "4.1 Проведіть візуалізацію:\n",
        "- Побудуйте графіки, що показують зміни точності та втрат для різних\n",
        "варіантів навчання.\n",
        "- Створіть графік для демонстрації залежності між різними значеннями\n",
        "гіперпараметрів та точністю моделів."
      ],
      "metadata": {
        "id": "r3w3Mw8t2M74"
      }
    },
    {
      "cell_type": "code",
      "source": [
        "import os\n",
        "import zipfile\n",
        "import matplotlib.pyplot as plt\n",
        "import numpy as np\n",
        "import random\n",
        "import torch\n",
        "import torchvision\n",
        "import torchvision.transforms as transforms\n",
        "import torchvision.datasets as datasets\n",
        "import torch.nn as nn\n",
        "import torch.nn.functional as F\n",
        "from sklearn.metrics import accuracy_score, f1_score, precision_score, recall_score\n",
        "from torch.utils.data import DataLoader, Dataset, random_split\n",
        "from torchvision.utils import make_grid\n",
        "from collections import defaultdict"
      ],
      "metadata": {
        "id": "UhoyrvVa1KHx"
      },
      "execution_count": null,
      "outputs": []
    },
    {
      "cell_type": "markdown",
      "source": [
        "## Load the dataset Animals-10\n",
        "Connect to Google Drive account."
      ],
      "metadata": {
        "id": "hWs7OM8Y9kD-"
      }
    },
    {
      "cell_type": "code",
      "execution_count": null,
      "metadata": {
        "id": "_ZrjwqBpodIr",
        "colab": {
          "base_uri": "https://localhost:8080/"
        },
        "outputId": "440c97dd-0887-42e6-e5ac-30f491f568c9"
      },
      "outputs": [
        {
          "output_type": "stream",
          "name": "stdout",
          "text": [
            "Mounted at /content/drive\n"
          ]
        }
      ],
      "source": [
        "from google.colab import drive\n",
        "drive.mount('/content/drive')"
      ]
    },
    {
      "cell_type": "code",
      "source": [
        "# Unzip in Colab's temporary storage\n",
        "zip_path = \"/content/drive/MyDrive/NaUKMAProgramming/DeepLearning/Data/Animals-10.zip\"\n",
        "data_path = \"/content/raw-img\"  # Extract in Colab's temporary storage\n",
        "\n",
        "if not os.path.exists(data_path):\n",
        "    with zipfile.ZipFile(zip_path, 'r') as zip_ref:\n",
        "        zip_ref.extractall(\"/content/\")  # Extract directly to /content/"
      ],
      "metadata": {
        "id": "qnyh6SQb1_uY"
      },
      "execution_count": null,
      "outputs": []
    },
    {
      "cell_type": "code",
      "source": [
        "# Load the data\n",
        "data = datasets.ImageFolder(root=data_path)"
      ],
      "metadata": {
        "id": "E-Yf-Aiz3yIm"
      },
      "execution_count": null,
      "outputs": []
    },
    {
      "cell_type": "markdown",
      "source": [
        "There are 26,179 images in Animal-10 dataset."
      ],
      "metadata": {
        "id": "4vwDLE383k7_"
      }
    },
    {
      "cell_type": "code",
      "source": [
        "len(data)"
      ],
      "metadata": {
        "colab": {
          "base_uri": "https://localhost:8080/"
        },
        "id": "BEQkpF_domS9",
        "outputId": "e4f99708-430b-4ffd-ad37-a926f4dc07cd"
      },
      "execution_count": null,
      "outputs": [
        {
          "output_type": "execute_result",
          "data": {
            "text/plain": [
              "26179"
            ]
          },
          "metadata": {},
          "execution_count": 5
        }
      ]
    },
    {
      "cell_type": "markdown",
      "source": [
        "Check classes of the data. We see that there are 10 classes of animals."
      ],
      "metadata": {
        "id": "BIF8Xsn3G4fL"
      }
    },
    {
      "cell_type": "code",
      "source": [
        "# Check class-to-index mapping\n",
        "data.classes"
      ],
      "metadata": {
        "colab": {
          "base_uri": "https://localhost:8080/"
        },
        "id": "Fb-ghPhk5G88",
        "outputId": "2a987602-9b18-47b9-8210-364ea9ddba54"
      },
      "execution_count": null,
      "outputs": [
        {
          "output_type": "execute_result",
          "data": {
            "text/plain": [
              "['cane',\n",
              " 'cavallo',\n",
              " 'elefante',\n",
              " 'farfalla',\n",
              " 'gallina',\n",
              " 'gatto',\n",
              " 'mucca',\n",
              " 'pecora',\n",
              " 'ragno',\n",
              " 'scoiattolo']"
            ]
          },
          "metadata": {},
          "execution_count": 6
        }
      ]
    },
    {
      "cell_type": "markdown",
      "source": [
        "Translate classes names from Italian to English using dictionary from Python file in the data archiv."
      ],
      "metadata": {
        "id": "NDs9Az9XNPcg"
      }
    },
    {
      "cell_type": "code",
      "source": [
        "translate = {\"cane\": \"dog\",\n",
        "             \"cavallo\": \"horse\",\n",
        "             \"elefante\": \"elephant\",\n",
        "             \"farfalla\": \"butterfly\",\n",
        "             \"gallina\": \"chicken\",\n",
        "             \"gatto\": \"cat\",\n",
        "             \"mucca\": \"cow\",\n",
        "             \"pecora\": \"sheep\",\n",
        "             \"ragno\": \"spider\",\n",
        "             \"scoiattolo\": \"squirrel\"}"
      ],
      "metadata": {
        "id": "eqSae8Hi4qKG"
      },
      "execution_count": null,
      "outputs": []
    },
    {
      "cell_type": "code",
      "source": [
        "data.classes = [translate.get(name, name) for name in data.classes]\n",
        "data.class_to_idx = {name: idx for idx, name in enumerate(data.classes)}"
      ],
      "metadata": {
        "id": "6lgSyT4XMwg4"
      },
      "execution_count": null,
      "outputs": []
    },
    {
      "cell_type": "code",
      "source": [
        "data.classes"
      ],
      "metadata": {
        "colab": {
          "base_uri": "https://localhost:8080/"
        },
        "id": "itqUNDRBNY8V",
        "outputId": "9a049810-a29e-4e15-c47d-948a506bedea"
      },
      "execution_count": null,
      "outputs": [
        {
          "output_type": "execute_result",
          "data": {
            "text/plain": [
              "['dog',\n",
              " 'horse',\n",
              " 'elephant',\n",
              " 'butterfly',\n",
              " 'chicken',\n",
              " 'cat',\n",
              " 'cow',\n",
              " 'sheep',\n",
              " 'spider',\n",
              " 'squirrel']"
            ]
          },
          "metadata": {},
          "execution_count": 9
        }
      ]
    },
    {
      "cell_type": "code",
      "source": [
        "!pip install basic_image_eda"
      ],
      "metadata": {
        "colab": {
          "base_uri": "https://localhost:8080/"
        },
        "id": "_MG_cggt6Emm",
        "outputId": "2917a5e3-e93b-409c-99a4-f47819ed56d1"
      },
      "execution_count": null,
      "outputs": [
        {
          "output_type": "stream",
          "name": "stdout",
          "text": [
            "Collecting basic_image_eda\n",
            "  Downloading basic_image_eda-0.0.3-py3-none-any.whl.metadata (7.1 kB)\n",
            "Downloading basic_image_eda-0.0.3-py3-none-any.whl (9.8 kB)\n",
            "Installing collected packages: basic_image_eda\n",
            "Successfully installed basic_image_eda-0.0.3\n"
          ]
        }
      ]
    },
    {
      "cell_type": "markdown",
      "source": [
        "Explore the dataset with BasicImageEDA library"
      ],
      "metadata": {
        "id": "i-VN2nMp8ADS"
      }
    },
    {
      "cell_type": "code",
      "source": [
        "from basic_image_eda import BasicImageEDA\n",
        "\n",
        "# Create an instance of BasicImageEDA and explore the dataset\n",
        "eda = BasicImageEDA()\n",
        "eda.explore(data_path)"
      ],
      "metadata": {
        "colab": {
          "base_uri": "https://localhost:8080/"
        },
        "id": "pW9Zjxt97D9A",
        "outputId": "f797888f-8d69-46c6-f29a-235807895be2"
      },
      "execution_count": null,
      "outputs": [
        {
          "output_type": "stream",
          "name": "stdout",
          "text": [
            "\n",
            "found 26179 images.\n",
            "Using 2 threads. (max:2)\n",
            "\n"
          ]
        },
        {
          "output_type": "stream",
          "name": "stderr",
          "text": [
            "100%|██████████| 26179/26179 [02:02<00:00, 214.51it/s]"
          ]
        },
        {
          "output_type": "stream",
          "name": "stdout",
          "text": [
            "\n",
            "*--------------------------------------------------------------------------------------*\n",
            "number of images                         |  26179\n",
            "\n",
            "dtype                                    |  uint8\n",
            "channels                                 |  [1, 3, 4]\n",
            "extensions                               |  ['jpeg', 'png', 'jpg']\n",
            "\n",
            "min height                               |  57\n",
            "max height                               |  6000\n",
            "mean height                              |  252.63016157989227\n",
            "median height                            |  225\n",
            "\n",
            "min width                                |  60\n",
            "max width                                |  6720\n",
            "mean width                               |  320.0388097329921\n",
            "median width                             |  300\n",
            "\n",
            "mean height/width ratio                  |  0.7893735193886681\n",
            "median height/width ratio                |  0.75\n",
            "recommended input size(by mean)          |  [256 320] (h x w, multiples of 8)\n",
            "recommended input size(by mean)          |  [256 320] (h x w, multiples of 16)\n",
            "recommended input size(by mean)          |  [256 320] (h x w, multiples of 32)\n",
            "\n",
            "channel mean(0~1)                        |  [0.5177272 0.500307  0.4125527]\n",
            "channel std(0~1)                         |  [0.27112892 0.26629838 0.2833791 ]\n",
            "*--------------------------------------------------------------------------------------*\n",
            "eda ended in 00 hours 02 minutes 02 seconds\n"
          ]
        },
        {
          "output_type": "stream",
          "name": "stderr",
          "text": [
            "\n"
          ]
        },
        {
          "output_type": "execute_result",
          "data": {
            "text/plain": [
              "{'dtype': 'uint8',\n",
              " 'channels': [1, 3, 4],\n",
              " 'extensions': ['jpeg', 'png', 'jpg'],\n",
              " 'min_h': 57,\n",
              " 'max_h': 6000,\n",
              " 'mean_h': 252.63016157989227,\n",
              " 'median_h': 225,\n",
              " 'min_w': 60,\n",
              " 'max_w': 6720,\n",
              " 'mean_w': 320.0388097329921,\n",
              " 'median_w': 300,\n",
              " 'mean_hw_ratio': 0.7893735193886681,\n",
              " 'median_hw_ratio': 0.75,\n",
              " 'rec_hw_size_8': array([256, 320]),\n",
              " 'rec_hw_size_16': array([256, 320]),\n",
              " 'rec_hw_size_32': array([256, 320]),\n",
              " 'mean': array([0.5177272, 0.500307 , 0.4125527], dtype=float32),\n",
              " 'std': array([0.27112892, 0.26629838, 0.2833791 ], dtype=float32)}"
            ]
          },
          "metadata": {},
          "execution_count": 12
        }
      ]
    },
    {
      "cell_type": "markdown",
      "source": [
        "## Transform data\n",
        "Set up data transformations for train, validation and test datasets. Add data augmentation to data transformation for train. We use the same data transformations for validation and test."
      ],
      "metadata": {
        "id": "PmVUk5AA9alw"
      }
    },
    {
      "cell_type": "code",
      "source": [
        "train_transform = transforms.Compose([\n",
        "    transforms.Resize((224, 224)),  # Resize images\n",
        "    transforms.RandomHorizontalFlip(),   # Flip the image horizontally with probability 0.5\n",
        "    transforms.RandomRotation(20),   # Rotate the image randomly by up to 10 degrees\n",
        "    transforms.ToTensor(),  # Scale pixel values from [0, 255] to [0, 1] and flip image format from H x W x C to C x H x W\n",
        "    transforms.Normalize((0.5177272, 0.500307, 0.4125527), (0.27112892, 0.26629838, 0.2833791))  # Mean value for channels, sgd for channels; scale from [0,1] to [-1,1]\n",
        "])"
      ],
      "metadata": {
        "id": "5V7NPD5Z3oXb"
      },
      "execution_count": null,
      "outputs": []
    },
    {
      "cell_type": "code",
      "source": [
        "val_transform = transforms.Compose([\n",
        "    transforms.Resize((224, 224)),  # Resize images\n",
        "    transforms.RandomHorizontalFlip(),   # Flip the image horizontally with probability 0.5\n",
        "    transforms.RandomRotation(20),   # Rotate the image randomly by up to 10 degrees\n",
        "    transforms.ToTensor(),  # Scale pixel values from [0, 255] to [0, 1] and flip image format from H x W x C to C x H x W\n",
        "    transforms.Normalize((0.5177272, 0.500307, 0.4125527), (0.27112892, 0.26629838, 0.2833791))  # Mean value for channels, sgd for channels; scale from [0,1] to [-1,1]\n",
        "])"
      ],
      "metadata": {
        "id": "hEgPXLCV9GGn"
      },
      "execution_count": null,
      "outputs": []
    },
    {
      "cell_type": "code",
      "source": [
        "test_transform = transforms.Compose([\n",
        "    transforms.Resize((224, 224)),  # Resize images\n",
        "    transforms.ToTensor(),  # Scale pixel values from [0, 255] to [0, 1] and flip image format from H x W x C to C x H x W\n",
        "    transforms.Normalize((0.5177272, 0.500307, 0.4125527), (0.27112892, 0.26629838, 0.2833791))  # Mean value for channels, sgd for channels; scale from [0,1] to [-1,1]\n",
        "])"
      ],
      "metadata": {
        "id": "X32xEPOE9YF5"
      },
      "execution_count": null,
      "outputs": []
    },
    {
      "cell_type": "markdown",
      "source": [
        "## Split data into train, validation and test\n",
        "65% - train data, 15% - validation data and 20% - test data."
      ],
      "metadata": {
        "id": "VgCjAU4nCIMd"
      }
    },
    {
      "cell_type": "code",
      "source": [
        "train_ds, val_ds, test_ds = random_split(data, [0.65, 0.15, 0.2])"
      ],
      "metadata": {
        "id": "3qT6PPTIAeq-"
      },
      "execution_count": null,
      "outputs": []
    },
    {
      "cell_type": "markdown",
      "source": [
        "Create a class TransformedSubset to apply separate transformation to each subset after split."
      ],
      "metadata": {
        "id": "mpqwqCHfyorh"
      }
    },
    {
      "cell_type": "code",
      "source": [
        "class TransformedSubset(Dataset):\n",
        "    def __init__(self, subset, transform=None):\n",
        "        self.subset = subset\n",
        "        self.transform = transform\n",
        "\n",
        "    def __getitem__(self, index):\n",
        "        x, y = self.subset[index]\n",
        "        if self.transform:\n",
        "            x = self.transform(x)\n",
        "        return x, y\n",
        "\n",
        "    def __len__(self):\n",
        "        return len(self.subset)"
      ],
      "metadata": {
        "id": "bOKW4Bj1ygfG"
      },
      "execution_count": null,
      "outputs": []
    },
    {
      "cell_type": "markdown",
      "source": [
        "Apply data transformations to each subset."
      ],
      "metadata": {
        "id": "W9dYKmNAeOao"
      }
    },
    {
      "cell_type": "code",
      "source": [
        "train_ds = TransformedSubset(train_ds, transform=train_transform)\n",
        "val_ds = TransformedSubset(val_ds, transform=val_transform)\n",
        "test_ds = TransformedSubset(test_ds, transform=test_transform)"
      ],
      "metadata": {
        "id": "e_ks_HC8FFaZ"
      },
      "execution_count": null,
      "outputs": []
    },
    {
      "cell_type": "markdown",
      "source": [
        "Check size of each dataset after split."
      ],
      "metadata": {
        "id": "gth1CZpWsSyZ"
      }
    },
    {
      "cell_type": "code",
      "source": [
        "len(train_ds), len(val_ds), len(test_ds)"
      ],
      "metadata": {
        "colab": {
          "base_uri": "https://localhost:8080/"
        },
        "id": "YCYb6znssA1s",
        "outputId": "ddefd4a8-c744-49ea-81d2-f5d212139f88"
      },
      "execution_count": null,
      "outputs": [
        {
          "output_type": "execute_result",
          "data": {
            "text/plain": [
              "(17017, 3927, 5235)"
            ]
          },
          "metadata": {},
          "execution_count": 16
        }
      ]
    },
    {
      "cell_type": "markdown",
      "source": [
        "Make dataloaders for train, validaton and test data to simplify loading process by batches."
      ],
      "metadata": {
        "id": "Brs8LJ3PP32v"
      }
    },
    {
      "cell_type": "code",
      "source": [
        "batch_size = 32\n",
        "\n",
        "train_dl = DataLoader(train_ds, batch_size=batch_size, shuffle=True, num_workers=2, pin_memory=True)\n",
        "val_dl = DataLoader(val_ds, batch_size=batch_size, shuffle=False, num_workers=2, pin_memory=True)\n",
        "test_dl = DataLoader(test_ds, batch_size=batch_size, shuffle=False, num_workers=2, pin_memory=True)"
      ],
      "metadata": {
        "id": "4-m9qHzp3thk"
      },
      "execution_count": null,
      "outputs": []
    },
    {
      "cell_type": "code",
      "source": [
        "!pip install ann_visualizer"
      ],
      "metadata": {
        "colab": {
          "base_uri": "https://localhost:8080/"
        },
        "id": "rG-Cs_zLeBzv",
        "outputId": "68e1419e-08f0-4754-a3ec-8cbf8e714df2"
      },
      "execution_count": null,
      "outputs": [
        {
          "output_type": "stream",
          "name": "stdout",
          "text": [
            "Collecting ann_visualizer\n",
            "  Downloading ann_visualizer-2.5.tar.gz (4.7 kB)\n",
            "  Preparing metadata (setup.py) ... \u001b[?25l\u001b[?25hdone\n",
            "Building wheels for collected packages: ann_visualizer\n",
            "  Building wheel for ann_visualizer (setup.py) ... \u001b[?25l\u001b[?25hdone\n",
            "  Created wheel for ann_visualizer: filename=ann_visualizer-2.5-py3-none-any.whl size=4169 sha256=1ee056a0813667b68487711c7e355196370d79b19a8f13e05edb4c4b57758f42\n",
            "  Stored in directory: /root/.cache/pip/wheels/28/4a/ad/e82da1aad2994e42bf0f4b1d403fdd8a64dfc38ae2c8a5daa4\n",
            "Successfully built ann_visualizer\n",
            "Installing collected packages: ann_visualizer\n",
            "Successfully installed ann_visualizer-2.5\n"
          ]
        }
      ]
    },
    {
      "cell_type": "code",
      "source": [
        "from ann_visualizer.visualize import ann_viz\n",
        "from torchsummary import summary"
      ],
      "metadata": {
        "id": "OwtOTuTAkhQC"
      },
      "execution_count": null,
      "outputs": []
    },
    {
      "cell_type": "markdown",
      "source": [
        "## Define CNN architecture"
      ],
      "metadata": {
        "id": "pxFCguRItzh9"
      }
    },
    {
      "cell_type": "markdown",
      "source": [
        "Create a model with 5 convolutional layers followed by 2 fully-connected layers and output layer. We use 5x5 filter for the first layer and 3x3 filters for other convolutional layers, with padding to preserve the dimension of the picture. As activation function ReLU is used and max pooling is added. Add batch normalization to convolutional layers and dropout to fully-connected layers."
      ],
      "metadata": {
        "id": "ocU_M3XVllBi"
      }
    },
    {
      "cell_type": "code",
      "source": [
        "class CNN(nn.Module):\n",
        "    def __init__(self):\n",
        "        super().__init__()\n",
        "\n",
        "        # Convolutional layers\n",
        "        self.conv1 = nn.Conv2d(in_channels=3, out_channels=32, kernel_size=5, stride=1, padding=2) # 32x224x224\n",
        "        self.bn1 = nn.BatchNorm2d(32)\n",
        "        self.relu1 = nn.ReLU()\n",
        "        self.maxpool1 = nn.MaxPool2d(kernel_size=2, stride=2) # 32x112x112\n",
        "\n",
        "        self.conv2 = nn.Conv2d(in_channels=32, out_channels=64, kernel_size=3, stride=1, padding=1) # 64x112x122\n",
        "        self.bn2 = nn.BatchNorm2d(64)\n",
        "        self.relu2 = nn.ReLU()\n",
        "        self.maxpool2 = nn.MaxPool2d(kernel_size=2, stride=2) # 64x56x56\n",
        "\n",
        "        self.conv3 = nn.Conv2d(in_channels=64, out_channels=128, kernel_size=3, stride=1, padding=1) # 128x56x56\n",
        "        self.bn3 = nn.BatchNorm2d(128)\n",
        "        self.relu3 = nn.ReLU()\n",
        "        self.maxpool3 = nn.MaxPool2d(kernel_size=2, stride=2) # 128x28x28\n",
        "\n",
        "        self.conv4 = nn.Conv2d(in_channels=128, out_channels=256, kernel_size=3, stride=1, padding=1) # 256x28x28\n",
        "        self.bn4 = nn.BatchNorm2d(256)\n",
        "        self.relu4 = nn.ReLU()\n",
        "        self.maxpool4 = nn.MaxPool2d(kernel_size=2, stride=2) # 256x14x14\n",
        "\n",
        "        self.conv5 = nn.Conv2d(in_channels=256, out_channels=512, kernel_size=3, stride=1, padding=1) # 512x14x14\n",
        "        self.bn5 = nn.BatchNorm2d(512)\n",
        "        self.relu5 = nn.ReLU()\n",
        "        self.maxpool5 = nn.MaxPool2d(kernel_size=2, stride=2) # 512x7x7\n",
        "\n",
        "        # Fully connected layers\n",
        "        self.fc1 = nn.Linear(512*7*7, 512)\n",
        "        self.dropout1 = nn.Dropout(0.2)\n",
        "        self.relu5 = nn.ReLU()\n",
        "\n",
        "        self.fc2 = nn.Linear(512, 256)\n",
        "        self.dropout2 = nn.Dropout(0.2)\n",
        "        self.relu6 = nn.ReLU()\n",
        "\n",
        "        self.fc3 = nn.Linear(256, 10)  # Output layer (logits)\n",
        "\n",
        "    def forward(self, x):\n",
        "        out = self.conv1(x)\n",
        "        out = self.bn1(out)\n",
        "        out = self.relu1(out)\n",
        "        out = self.maxpool1(out)\n",
        "\n",
        "        out = self.conv2(out)\n",
        "        out = self.bn2(out)\n",
        "        out = self.relu2(out)\n",
        "        out = self.maxpool2(out)\n",
        "\n",
        "        out = self.conv3(out)\n",
        "        out = self.bn3(out)\n",
        "        out = self.relu3(out)\n",
        "        out = self.maxpool3(out)\n",
        "\n",
        "        out = self.conv4(out)\n",
        "        out = self.bn4(out)\n",
        "        out = self.relu4(out)\n",
        "        out = self.maxpool4(out)\n",
        "\n",
        "        out = self.conv5(out)\n",
        "        out = self.bn5(out)\n",
        "        out = self.relu5(out)\n",
        "        out = self.maxpool5(out)\n",
        "\n",
        "        out = out.view(out.size(0), -1)  # Flatten\n",
        "        out = self.fc1(out)\n",
        "        out = self.dropout1(out)\n",
        "        out = self.relu5(out)\n",
        "\n",
        "        out = self.fc2(out)\n",
        "        out = self.dropout2(out)\n",
        "        out = self.relu6(out)\n",
        "\n",
        "        out = self.fc3(out)\n",
        "        return out"
      ],
      "metadata": {
        "id": "LRgPvrJq5i6w"
      },
      "execution_count": null,
      "outputs": []
    },
    {
      "cell_type": "code",
      "source": [
        "device = torch.device(\"cuda\" if torch.cuda.is_available() else \"cpu\")"
      ],
      "metadata": {
        "id": "8XOeK6-Omg6V"
      },
      "execution_count": null,
      "outputs": []
    },
    {
      "cell_type": "code",
      "source": [
        "device"
      ],
      "metadata": {
        "colab": {
          "base_uri": "https://localhost:8080/"
        },
        "id": "DCBeg8lGpLUs",
        "outputId": "b81cf76b-ce01-49e9-cc2d-612a27e56e4b"
      },
      "execution_count": null,
      "outputs": [
        {
          "output_type": "execute_result",
          "data": {
            "text/plain": [
              "device(type='cuda')"
            ]
          },
          "metadata": {},
          "execution_count": 21
        }
      ]
    },
    {
      "cell_type": "markdown",
      "source": [
        "## Train the model"
      ],
      "metadata": {
        "id": "rzbyJs0oRLmx"
      }
    },
    {
      "cell_type": "markdown",
      "source": [
        "### Manual Model Optimizaation"
      ],
      "metadata": {
        "id": "QmLiBFE5rQXI"
      }
    },
    {
      "cell_type": "code",
      "source": [
        "# Define different learning rates to test\n",
        "learning_rates = [0.01, 0.001, 0.0001]\n",
        "\n",
        "# Dictionary to store results for each learning rate\n",
        "results = {}\n",
        "\n",
        "# Fixed hyperparameters\n",
        "epochs = 10  # Reduced for quick testing\n",
        "batch_size = 32\n",
        "\n",
        "# Function to evaluate mode\n",
        "def evaluate_model(model, dataloader):\n",
        "    model.eval()\n",
        "    total_loss = 0.0\n",
        "    all_preds = []\n",
        "    all_labels = []\n",
        "\n",
        "    with torch.no_grad():\n",
        "        for images, labels in dataloader:\n",
        "            images, labels = images.to(device), labels.to(device)\n",
        "            outputs = model(images)\n",
        "            loss = loss_function(outputs, labels)\n",
        "            total_loss += loss.item()\n",
        "\n",
        "            preds = torch.argmax(outputs, dim=1)\n",
        "            all_preds.extend(preds.cpu().numpy())\n",
        "            all_labels.extend(labels.cpu().numpy())\n",
        "\n",
        "        val_loss = total_loss / len(dataloader)\n",
        "        accuracy = accuracy_score(all_labels, all_preds)\n",
        "        f1 = f1_score(all_labels, all_preds, average='weighted')\n",
        "        return val_loss, accuracy, f1\n",
        "\n",
        "# Train the model\n",
        "for lr in learning_rates:\n",
        "    print(f\"\\n=== Training with learning rate: {lr} ===\\n\")\n",
        "\n",
        "    # Initialize model and optimizer\n",
        "    model = CNN().to(device)\n",
        "    optimizer = torch.optim.Adam(model.parameters(), lr=lr)\n",
        "\n",
        "    # Lists to store metrics\n",
        "    train_losses, val_losses = [], []\n",
        "    train_accuracies, val_accuracies = [], []\n",
        "    train_f1s, val_f1s = [], []\n",
        "\n",
        "    for epoch in range(epochs):\n",
        "        model.train()\n",
        "        running_loss = 0.0\n",
        "        all_preds, all_labels = [], []\n",
        "\n",
        "        for images, labels in train_dl:\n",
        "            images, labels = images.to(device), labels.to(device)\n",
        "            optimizer.zero_grad()\n",
        "            outputs = model(images)\n",
        "            loss = loss_function(outputs, labels)\n",
        "            loss.backward()\n",
        "            optimizer.step()\n",
        "\n",
        "            running_loss += loss.item()\n",
        "            preds = torch.argmax(outputs, dim=1)\n",
        "            all_preds.extend(preds.cpu().numpy())\n",
        "            all_labels.extend(labels.cpu().numpy())\n",
        "\n",
        "        train_loss = running_loss / len(train_dl)\n",
        "        train_accuracy = accuracy_score(all_labels, all_preds)\n",
        "        train_f1 = f1_score(all_labels, all_preds, average='weighted')\n",
        "\n",
        "        val_loss, val_accuracy, val_f1 = evaluate_model(model, val_dl)\n",
        "\n",
        "        train_losses.append(train_loss)\n",
        "        val_losses.append(val_loss)\n",
        "        train_accuracies.append(train_accuracy)\n",
        "        val_accuracies.append(val_accuracy)\n",
        "        train_f1s.append(train_f1)\n",
        "        val_f1s.append(val_f1)\n",
        "\n",
        "        print(f\"Epoch {epoch+1}/{epochs}: \"\n",
        "              f\"Train Loss: {train_loss:.4f}, Train Acc: {train_accuracy:.4f}, Train F1: {train_f1:.4f} | \"\n",
        "              f\"Val Loss: {val_loss:.4f}, Val Acc: {val_accuracy:.4f}, Val F1: {val_f1:.4f}\")\n",
        "\n",
        "    # Store results for this learning rate\n",
        "    results[lr] = {\n",
        "        'train_loss': train_losses,\n",
        "        'val_loss': val_losses,\n",
        "        'train_accuracy': train_accuracies,\n",
        "        'val_accuracy': val_accuracies,\n",
        "        'train_f1': train_f1s,\n",
        "        'val_f1': val_f1s,\n",
        "        'final_val_accuracy': val_accuracy,\n",
        "        'final_val_f1': val_f1\n",
        "    }"
      ],
      "metadata": {
        "colab": {
          "base_uri": "https://localhost:8080/"
        },
        "id": "QQ0oWNH0tJOH",
        "outputId": "b54ee6fd-10ff-4155-8a6b-d25a324c738c"
      },
      "execution_count": null,
      "outputs": [
        {
          "output_type": "stream",
          "name": "stdout",
          "text": [
            "\n",
            "=== Training with learning rate: 0.01 ===\n",
            "\n",
            "Epoch 1/10: Train Loss: 3.3511, Train Acc: 0.1846, Train F1: 0.1087 | Val Loss: 2.2067, Val Acc: 0.1772, Val F1: 0.0537\n",
            "Epoch 2/10: Train Loss: 2.2084, Train Acc: 0.1879, Train F1: 0.1018 | Val Loss: 2.2076, Val Acc: 0.1770, Val F1: 0.0532\n",
            "Epoch 3/10: Train Loss: 2.2087, Train Acc: 0.1848, Train F1: 0.1003 | Val Loss: 2.2074, Val Acc: 0.1770, Val F1: 0.0532\n",
            "Epoch 4/10: Train Loss: 2.2085, Train Acc: 0.1850, Train F1: 0.1005 | Val Loss: 2.2068, Val Acc: 0.1770, Val F1: 0.0532\n",
            "Epoch 5/10: Train Loss: 2.2106, Train Acc: 0.1851, Train F1: 0.1007 | Val Loss: 2.2086, Val Acc: 0.1770, Val F1: 0.0532\n",
            "Epoch 6/10: Train Loss: 2.2082, Train Acc: 0.1844, Train F1: 0.0998 | Val Loss: 2.2082, Val Acc: 0.1887, Val F1: 0.0599\n",
            "Epoch 7/10: Train Loss: 2.2080, Train Acc: 0.1861, Train F1: 0.0992 | Val Loss: 2.2070, Val Acc: 0.1770, Val F1: 0.0532\n",
            "Epoch 8/10: Train Loss: 2.2081, Train Acc: 0.1869, Train F1: 0.1015 | Val Loss: 2.2073, Val Acc: 0.1887, Val F1: 0.0599\n",
            "Epoch 9/10: Train Loss: 2.2079, Train Acc: 0.1829, Train F1: 0.0993 | Val Loss: 2.2094, Val Acc: 0.1770, Val F1: 0.0532\n",
            "Epoch 10/10: Train Loss: 2.2083, Train Acc: 0.1839, Train F1: 0.0999 | Val Loss: 2.2083, Val Acc: 0.1770, Val F1: 0.0532\n",
            "\n",
            "=== Training with learning rate: 0.001 ===\n",
            "\n",
            "Epoch 1/10: Train Loss: 2.0252, Train Acc: 0.3119, Train F1: 0.2730 | Val Loss: 1.7530, Val Acc: 0.3845, Val F1: 0.3204\n",
            "Epoch 2/10: Train Loss: 1.6534, Train Acc: 0.4329, Train F1: 0.3979 | Val Loss: 1.8827, Val Acc: 0.4003, Val F1: 0.3556\n",
            "Epoch 3/10: Train Loss: 1.4785, Train Acc: 0.4922, Train F1: 0.4670 | Val Loss: 1.3367, Val Acc: 0.5511, Val F1: 0.5353\n",
            "Epoch 4/10: Train Loss: 1.3460, Train Acc: 0.5403, Train F1: 0.5208 | Val Loss: 1.2760, Val Acc: 0.5674, Val F1: 0.5519\n",
            "Epoch 5/10: Train Loss: 1.2462, Train Acc: 0.5768, Train F1: 0.5608 | Val Loss: 1.2275, Val Acc: 0.5831, Val F1: 0.5539\n",
            "Epoch 6/10: Train Loss: 1.1599, Train Acc: 0.6085, Train F1: 0.5972 | Val Loss: 1.1055, Val Acc: 0.6325, Val F1: 0.6029\n",
            "Epoch 7/10: Train Loss: 1.0805, Train Acc: 0.6351, Train F1: 0.6267 | Val Loss: 1.0461, Val Acc: 0.6516, Val F1: 0.6318\n",
            "Epoch 8/10: Train Loss: 1.0196, Train Acc: 0.6590, Train F1: 0.6513 | Val Loss: 0.9939, Val Acc: 0.6656, Val F1: 0.6620\n",
            "Epoch 9/10: Train Loss: 0.9580, Train Acc: 0.6740, Train F1: 0.6674 | Val Loss: 0.9719, Val Acc: 0.6733, Val F1: 0.6629\n",
            "Epoch 10/10: Train Loss: 0.8999, Train Acc: 0.6989, Train F1: 0.6945 | Val Loss: 0.9180, Val Acc: 0.6952, Val F1: 0.6898\n",
            "\n",
            "=== Training with learning rate: 0.0001 ===\n",
            "\n",
            "Epoch 1/10: Train Loss: 1.6232, Train Acc: 0.4336, Train F1: 0.4092 | Val Loss: 1.2876, Val Acc: 0.5513, Val F1: 0.5429\n",
            "Epoch 2/10: Train Loss: 1.2233, Train Acc: 0.5798, Train F1: 0.5687 | Val Loss: 1.1823, Val Acc: 0.6022, Val F1: 0.5847\n",
            "Epoch 3/10: Train Loss: 1.0776, Train Acc: 0.6332, Train F1: 0.6256 | Val Loss: 0.9744, Val Acc: 0.6651, Val F1: 0.6568\n",
            "Epoch 4/10: Train Loss: 0.9822, Train Acc: 0.6636, Train F1: 0.6577 | Val Loss: 0.9372, Val Acc: 0.6814, Val F1: 0.6738\n",
            "Epoch 5/10: Train Loss: 0.9129, Train Acc: 0.6868, Train F1: 0.6826 | Val Loss: 0.9120, Val Acc: 0.6911, Val F1: 0.6862\n",
            "Epoch 6/10: Train Loss: 0.8502, Train Acc: 0.7109, Train F1: 0.7071 | Val Loss: 0.9427, Val Acc: 0.6850, Val F1: 0.6813\n",
            "Epoch 7/10: Train Loss: 0.7977, Train Acc: 0.7284, Train F1: 0.7255 | Val Loss: 0.8141, Val Acc: 0.7270, Val F1: 0.7271\n",
            "Epoch 8/10: Train Loss: 0.7537, Train Acc: 0.7444, Train F1: 0.7422 | Val Loss: 0.7938, Val Acc: 0.7301, Val F1: 0.7254\n",
            "Epoch 9/10: Train Loss: 0.7136, Train Acc: 0.7570, Train F1: 0.7548 | Val Loss: 0.8025, Val Acc: 0.7390, Val F1: 0.7387\n",
            "Epoch 10/10: Train Loss: 0.6737, Train Acc: 0.7692, Train F1: 0.7673 | Val Loss: 0.7552, Val Acc: 0.7454, Val F1: 0.7459\n"
          ]
        }
      ]
    },
    {
      "cell_type": "code",
      "source": [
        "# Find the best learning rate\n",
        "best_lr = max(results.items(), key=lambda x: x[1]['final_val_f1'])[0]\n",
        "print(f\"\\nBest learning rate: {best_lr} with validation accuracy: {results[best_lr]['final_val_accuracy']:.4f}\")"
      ],
      "metadata": {
        "colab": {
          "base_uri": "https://localhost:8080/"
        },
        "id": "hVCYiB8HtQVm",
        "outputId": "abd88c9d-7e21-415a-dd8b-368c6e0ba54d"
      },
      "execution_count": null,
      "outputs": [
        {
          "output_type": "stream",
          "name": "stdout",
          "text": [
            "\n",
            "Best learning rate: 0.0001 with validation accuracy: 0.7454\n"
          ]
        }
      ]
    },
    {
      "cell_type": "markdown",
      "source": [
        "### Visualisation of the results"
      ],
      "metadata": {
        "id": "wWJkr2gDBJek"
      }
    },
    {
      "cell_type": "code",
      "source": [
        "# Set up the figure\n",
        "plt.figure(figsize=(15, 6))\n",
        "\n",
        "# Training and Validation Losses for all LRs\n",
        "plt.subplot(1, 2, 1)\n",
        "for lr, data in results.items():\n",
        "    plt.plot(data['train_loss'], '--', label=f'LR={lr} (Train)')\n",
        "    plt.plot(data['val_loss'], '-', label=f'LR={lr} (Val)')\n",
        "\n",
        "plt.title('Training & Validation Loss by Learning Rate')\n",
        "plt.xlabel('Epochs')\n",
        "plt.ylabel('Loss')\n",
        "plt.legend(bbox_to_anchor=(1.05, 1), loc='upper left')\n",
        "plt.grid(True)\n",
        "\n",
        "# Training and Validation Accuracies for all LRs\n",
        "plt.subplot(1, 2, 2)\n",
        "for lr, data in results.items():\n",
        "    plt.plot(data['train_accuracy'], '--', label=f'LR={lr} (Train)')\n",
        "    plt.plot(data['val_accuracy'], '-', label=f'LR={lr} (Val)')\n",
        "\n",
        "plt.title('Training & Validation Accuracy by Learning Rate')\n",
        "plt.xlabel('Epochs')\n",
        "plt.ylabel('Accuracy')\n",
        "plt.legend(bbox_to_anchor=(1.05, 1), loc='upper left')\n",
        "plt.grid(True)\n",
        "\n",
        "plt.tight_layout()\n",
        "plt.show()"
      ],
      "metadata": {
        "colab": {
          "base_uri": "https://localhost:8080/",
          "height": 495
        },
        "id": "ExNyLiugysso",
        "outputId": "493df384-b998-4cdf-eb26-5936a187c603"
      },
      "execution_count": null,
      "outputs": [
        {
          "output_type": "display_data",
          "data": {
            "text/plain": [
              "<Figure size 1500x600 with 2 Axes>"
            ],
            "image/png": "[encoded data removed]"
          },
          "metadata": {}
        }
      ]
    },
    {
      "cell_type": "markdown",
      "source": [
        "--------"
      ],
      "metadata": {
        "id": "9_8EUR7dtBem"
      }
    },
    {
      "cell_type": "markdown",
      "source": [
        "### Automated optimization"
      ],
      "metadata": {
        "id": "17lsDasPrI3l"
      }
    },
    {
      "cell_type": "code",
      "source": [
        "!pip install optuna"
      ],
      "metadata": {
        "colab": {
          "base_uri": "https://localhost:8080/"
        },
        "id": "QvWa3_OwsCGI",
        "outputId": "f4bdf607-d070-4bb0-9dac-3dc929e716d2"
      },
      "execution_count": null,
      "outputs": [
        {
          "output_type": "stream",
          "name": "stdout",
          "text": [
            "Collecting optuna\n",
            "  Downloading optuna-4.2.1-py3-none-any.whl.metadata (17 kB)\n",
            "Collecting alembic>=1.5.0 (from optuna)\n",
            "  Downloading alembic-1.15.1-py3-none-any.whl.metadata (7.2 kB)\n",
            "Collecting colorlog (from optuna)\n",
            "  Downloading colorlog-6.9.0-py3-none-any.whl.metadata (10 kB)\n",
            "Requirement already satisfied: numpy in /usr/local/lib/python3.11/dist-packages (from optuna) (2.0.2)\n",
            "Requirement already satisfied: packaging>=20.0 in /usr/local/lib/python3.11/dist-packages (from optuna) (24.2)\n",
            "Requirement already satisfied: sqlalchemy>=1.4.2 in /usr/local/lib/python3.11/dist-packages (from optuna) (2.0.39)\n",
            "Requirement already satisfied: tqdm in /usr/local/lib/python3.11/dist-packages (from optuna) (4.67.1)\n",
            "Requirement already satisfied: PyYAML in /usr/local/lib/python3.11/dist-packages (from optuna) (6.0.2)\n",
            "Requirement already satisfied: Mako in /usr/lib/python3/dist-packages (from alembic>=1.5.0->optuna) (1.1.3)\n",
            "Requirement already satisfied: typing-extensions>=4.12 in /usr/local/lib/python3.11/dist-packages (from alembic>=1.5.0->optuna) (4.12.2)\n",
            "Requirement already satisfied: greenlet!=0.4.17 in /usr/local/lib/python3.11/dist-packages (from sqlalchemy>=1.4.2->optuna) (3.1.1)\n",
            "Downloading optuna-4.2.1-py3-none-any.whl (383 kB)\n",
            "\u001b[2K   \u001b[90m━━━━━━━━━━━━━━━━━━━━━━━━━━━━━━━━━━━━━━━━\u001b[0m \u001b[32m383.6/383.6 kB\u001b[0m \u001b[31m26.9 MB/s\u001b[0m eta \u001b[36m0:00:00\u001b[0m\n",
            "\u001b[?25hDownloading alembic-1.15.1-py3-none-any.whl (231 kB)\n",
            "\u001b[2K   \u001b[90m━━━━━━━━━━━━━━━━━━━━━━━━━━━━━━━━━━━━━━━━\u001b[0m \u001b[32m231.8/231.8 kB\u001b[0m \u001b[31m21.6 MB/s\u001b[0m eta \u001b[36m0:00:00\u001b[0m\n",
            "\u001b[?25hDownloading colorlog-6.9.0-py3-none-any.whl (11 kB)\n",
            "Installing collected packages: colorlog, alembic, optuna\n",
            "Successfully installed alembic-1.15.1 colorlog-6.9.0 optuna-4.2.1\n"
          ]
        }
      ]
    },
    {
      "cell_type": "code",
      "source": [
        "# Function to evaluate model\n",
        "def evaluate_model(model, dataloader, loss_function):\n",
        "    model.eval()  # Set model to evaluation mode\n",
        "    total_loss = 0.0\n",
        "    all_preds = []\n",
        "    all_labels = []\n",
        "\n",
        "    with torch.no_grad():  # Disable gradient computation for efficiency\n",
        "        for images, labels in dataloader:\n",
        "            images, labels = images.to(device), labels.to(device)\n",
        "            outputs = model(images)\n",
        "            loss = loss_function(outputs, labels)  # Use passed loss function\n",
        "            total_loss += loss.item()\n",
        "\n",
        "            preds = torch.argmax(outputs, dim=1)\n",
        "            all_preds.extend(preds.cpu().numpy())  # Convert tensors to numpy\n",
        "            all_labels.extend(labels.cpu().numpy())\n",
        "\n",
        "    # Compute loss, accuracy, and F1-score\n",
        "    val_loss = total_loss / len(dataloader)\n",
        "    accuracy = accuracy_score(all_labels, all_preds)\n",
        "    f1 = f1_score(all_labels, all_preds, average='weighted')\n",
        "\n",
        "    return val_loss, accuracy, f1"
      ],
      "metadata": {
        "id": "rYsHKoPIt1PU"
      },
      "execution_count": null,
      "outputs": []
    },
    {
      "cell_type": "code",
      "source": [
        "import optuna\n",
        "import torch.optim as optim\n",
        "import torch.nn as nn\n",
        "from torch.utils.data import DataLoader\n",
        "\n",
        "# Define objective function for Optuna\n",
        "def objective(trial):\n",
        "    lr = trial.suggest_float('lr', 1e-5, 1e-2, log=True)\n",
        "    batch_size = trial.suggest_categorical('batch_size', [16, 32, 64])\n",
        "    dropout_rate = trial.suggest_float('dropout', 0.1, 0.5)\n",
        "\n",
        "    model = CNN().to(device)  # Ensure CNN() is defined\n",
        "    optimizer = optim.Adam(model.parameters(), lr=lr)\n",
        "    loss_function = nn.CrossEntropyLoss()\n",
        "\n",
        "    train_dl_opt = DataLoader(train_ds, batch_size=batch_size, shuffle=True)\n",
        "    val_dl_opt = DataLoader(val_ds, batch_size=batch_size, shuffle=False)\n",
        "\n",
        "    print(f\"\\n=== Training with learning rate: {lr:.6f}, batch size: {batch_size}, dropout: {dropout_rate:.2f} ===\\n\")\n",
        "\n",
        "    for epoch in range(5):  # Limit to 5 epochs for efficiency\n",
        "        model.train()\n",
        "        train_loss, correct, total = 0.0, 0, 0\n",
        "\n",
        "        for images, labels in train_dl_opt:\n",
        "            images, labels = images.to(device), labels.to(device)\n",
        "            optimizer.zero_grad()\n",
        "            outputs = model(images)\n",
        "            loss = loss_function(outputs, labels)\n",
        "            loss.backward()\n",
        "            optimizer.step()\n",
        "            train_loss += loss.item()\n",
        "\n",
        "            _, predicted = torch.max(outputs, 1)\n",
        "            correct += (predicted == labels).sum().item()\n",
        "            total += labels.size(0)\n",
        "\n",
        "        train_acc = correct / total\n",
        "        val_loss, val_acc, val_f1 = evaluate_model(model, val_dl_opt, loss_function)\n",
        "\n",
        "        print(f\"Epoch {epoch+1}/5: Train Loss: {train_loss / len(train_dl_opt):.4f}, \"\n",
        "              f\"Train Acc: {train_acc:.4f} | Val Loss: {val_loss:.4f}, Val Acc: {val_acc:.4f}, Val F1: {val_f1:.4f}\")\n",
        "\n",
        "    return val_f1  # Optimize based on F1-score\n",
        "\n",
        "# Run Optuna study\n",
        "study = optuna.create_study(direction='maximize')\n",
        "study.optimize(objective, n_trials=5)  # Limit trials for reasonable execution time\n",
        "\n",
        "# Get best hyperparameters\n",
        "best_params = study.best_params\n",
        "print(\"\\nBest Parameters:\", best_params)"
      ],
      "metadata": {
        "id": "is5v6pmotBA-",
        "colab": {
          "base_uri": "https://localhost:8080/"
        },
        "outputId": "c3fde354-cfaf-43a3-fc24-072d0019e65f"
      },
      "execution_count": null,
      "outputs": [
        {
          "metadata": {
            "tags": null
          },
          "name": "stderr",
          "output_type": "stream",
          "text": [
            "[I 2025-03-25 09:55:44,374] A new study created in memory with name: no-name-b235b13f-7540-4951-9540-ba1c98cbdc43\n"
          ]
        },
        {
          "metadata": {
            "tags": null
          },
          "name": "stdout",
          "output_type": "stream",
          "text": [
            "\n",
            "=== Training with learning rate: 0.000174, batch size: 16, dropout: 0.14 ===\n",
            "\n",
            "Epoch 1/5: Train Loss: 1.6839, Train Acc: 0.4144 | Val Loss: 1.3614, Val Acc: 0.5190, Val F1: 0.4852\n",
            "Epoch 2/5: Train Loss: 1.3169, Train Acc: 0.5455 | Val Loss: 1.1615, Val Acc: 0.5900, Val F1: 0.5826\n",
            "Epoch 3/5: Train Loss: 1.1551, Train Acc: 0.6042 | Val Loss: 1.0547, Val Acc: 0.6450, Val F1: 0.6365\n",
            "Epoch 4/5: Train Loss: 1.0414, Train Acc: 0.6407 | Val Loss: 1.0611, Val Acc: 0.6463, Val F1: 0.6425\n"
          ]
        },
        {
          "metadata": {
            "tags": null
          },
          "name": "stderr",
          "output_type": "stream",
          "text": [
            "[I 2025-03-25 10:06:01,347] Trial 0 finished with value: 0.694206433811057 and parameters: {'lr': 0.00017441617479647573, 'batch_size': 16, 'dropout': 0.14344290632454723}. Best is trial 0 with value: 0.694206433811057.\n"
          ]
        },
        {
          "metadata": {
            "tags": null
          },
          "name": "stdout",
          "output_type": "stream",
          "text": [
            "Epoch 5/5: Train Loss: 0.9660, Train Acc: 0.6700 | Val Loss: 0.8830, Val Acc: 0.6957, Val F1: 0.6942\n",
            "\n",
            "=== Training with learning rate: 0.000078, batch size: 16, dropout: 0.29 ===\n",
            "\n",
            "Epoch 1/5: Train Loss: 1.6635, Train Acc: 0.4228 | Val Loss: 1.3131, Val Acc: 0.5437, Val F1: 0.5230\n",
            "Epoch 2/5: Train Loss: 1.2805, Train Acc: 0.5580 | Val Loss: 1.1359, Val Acc: 0.6089, Val F1: 0.5877\n",
            "Epoch 3/5: Train Loss: 1.1262, Train Acc: 0.6070 | Val Loss: 1.0092, Val Acc: 0.6491, Val F1: 0.6398\n",
            "Epoch 4/5: Train Loss: 1.0241, Train Acc: 0.6519 | Val Loss: 1.0203, Val Acc: 0.6506, Val F1: 0.6394\n"
          ]
        },
        {
          "metadata": {
            "tags": null
          },
          "name": "stderr",
          "output_type": "stream",
          "text": [
            "[I 2025-03-25 10:16:10,325] Trial 1 finished with value: 0.6879691098415815 and parameters: {'lr': 7.755545485397668e-05, 'batch_size': 16, 'dropout': 0.2889152689490604}. Best is trial 0 with value: 0.694206433811057.\n"
          ]
        },
        {
          "output_type": "stream",
          "name": "stdout",
          "text": [
            "Epoch 5/5: Train Loss: 0.9591, Train Acc: 0.6712 | Val Loss: 0.8816, Val Acc: 0.6934, Val F1: 0.6880\n",
            "\n",
            "=== Training with learning rate: 0.008166, batch size: 64, dropout: 0.36 ===\n",
            "\n",
            "Epoch 1/5: Train Loss: 3.4907, Train Acc: 0.1884 | Val Loss: 2.2273, Val Acc: 0.1935, Val F1: 0.0673\n",
            "Epoch 2/5: Train Loss: 2.2092, Train Acc: 0.1867 | Val Loss: 2.2150, Val Acc: 0.1727, Val F1: 0.0508\n",
            "Epoch 3/5: Train Loss: 2.2066, Train Acc: 0.1883 | Val Loss: 2.2155, Val Acc: 0.1727, Val F1: 0.0509\n",
            "Epoch 4/5: Train Loss: 2.2064, Train Acc: 0.1854 | Val Loss: 2.2161, Val Acc: 0.1724, Val F1: 0.0508\n"
          ]
        },
        {
          "output_type": "stream",
          "name": "stderr",
          "text": [
            "[I 2025-03-25 10:26:38,977] Trial 2 finished with value: 0.06306651084792668 and parameters: {'lr': 0.008165608510357273, 'batch_size': 64, 'dropout': 0.3590621175339772}. Best is trial 0 with value: 0.694206433811057.\n"
          ]
        },
        {
          "output_type": "stream",
          "name": "stdout",
          "text": [
            "Epoch 5/5: Train Loss: 2.2062, Train Acc: 0.1906 | Val Loss: 2.2155, Val Acc: 0.1940, Val F1: 0.0631\n",
            "\n",
            "=== Training with learning rate: 0.001147, batch size: 32, dropout: 0.28 ===\n",
            "\n",
            "Epoch 1/5: Train Loss: 2.1014, Train Acc: 0.2916 | Val Loss: 1.8116, Val Acc: 0.3667, Val F1: 0.3252\n",
            "Epoch 2/5: Train Loss: 1.7202, Train Acc: 0.4063 | Val Loss: 1.7263, Val Acc: 0.4169, Val F1: 0.3736\n",
            "Epoch 3/5: Train Loss: 1.5304, Train Acc: 0.4802 | Val Loss: 1.4154, Val Acc: 0.5256, Val F1: 0.4949\n",
            "Epoch 4/5: Train Loss: 1.3792, Train Acc: 0.5327 | Val Loss: 1.2707, Val Acc: 0.5694, Val F1: 0.5399\n"
          ]
        },
        {
          "output_type": "stream",
          "name": "stderr",
          "text": [
            "[I 2025-03-25 10:36:49,967] Trial 3 finished with value: 0.5892356802723417 and parameters: {'lr': 0.001147380172726667, 'batch_size': 32, 'dropout': 0.2826446253296985}. Best is trial 0 with value: 0.694206433811057.\n"
          ]
        },
        {
          "output_type": "stream",
          "name": "stdout",
          "text": [
            "Epoch 5/5: Train Loss: 1.2889, Train Acc: 0.5613 | Val Loss: 1.2020, Val Acc: 0.5938, Val F1: 0.5892\n",
            "\n",
            "=== Training with learning rate: 0.000187, batch size: 64, dropout: 0.45 ===\n",
            "\n",
            "Epoch 1/5: Train Loss: 1.6886, Train Acc: 0.4136 | Val Loss: 1.3001, Val Acc: 0.5554, Val F1: 0.5323\n",
            "Epoch 2/5: Train Loss: 1.2743, Train Acc: 0.5634 | Val Loss: 1.2951, Val Acc: 0.5620, Val F1: 0.5418\n",
            "Epoch 3/5: Train Loss: 1.1036, Train Acc: 0.6227 | Val Loss: 1.1054, Val Acc: 0.6249, Val F1: 0.6094\n",
            "Epoch 4/5: Train Loss: 1.0058, Train Acc: 0.6568 | Val Loss: 0.9199, Val Acc: 0.6919, Val F1: 0.6812\n"
          ]
        },
        {
          "output_type": "stream",
          "name": "stderr",
          "text": [
            "[I 2025-03-25 10:47:26,692] Trial 4 finished with value: 0.6894855688107606 and parameters: {'lr': 0.00018713133511898437, 'batch_size': 64, 'dropout': 0.44705249440156225}. Best is trial 0 with value: 0.694206433811057.\n"
          ]
        },
        {
          "output_type": "stream",
          "name": "stdout",
          "text": [
            "Epoch 5/5: Train Loss: 0.9261, Train Acc: 0.6797 | Val Loss: 0.8747, Val Acc: 0.6975, Val F1: 0.6895\n",
            "\n",
            "Best Parameters: {'lr': 0.00017441617479647573, 'batch_size': 16, 'dropout': 0.14344290632454723}\n"
          ]
        }
      ]
    },
    {
      "cell_type": "markdown",
      "source": [
        "### Evaluation of model performance"
      ],
      "metadata": {
        "id": "qT1p3hqy5Oi4"
      }
    },
    {
      "cell_type": "code",
      "source": [
        "import torch.optim as optim\n",
        "import seaborn as sns\n",
        "from sklearn.metrics import accuracy_score, f1_score, confusion_matrix, classification_report\n",
        "\n",
        "# Train the model with best parameters\n",
        "best_params = study.best_params  # Get the best parameters\n",
        "\n",
        "print(f\"=== Training with best parameters: {best_params} ===\")\n",
        "\n",
        "model = CNN().to(device)  # Create the model\n",
        "optimizer = optim.Adam(model.parameters(), lr=best_params['lr'])\n",
        "loss_function = nn.CrossEntropyLoss()\n",
        "batch_size = best_params['batch_size']\n",
        "\n",
        "train_dl_best = DataLoader(train_ds, batch_size=batch_size, shuffle=True)\n",
        "val_dl_best = DataLoader(val_ds, batch_size=batch_size, shuffle=False)\n",
        "\n",
        "# Save results for epochs\n",
        "train_losses, val_losses = [], []\n",
        "train_accuracies, val_accuracies = [], []\n",
        "train_f1s, val_f1s = [], []\n",
        "\n",
        "# Train 10 epochs\n",
        "for epoch in range(10):\n",
        "    model.train()\n",
        "    total_train_loss, correct_train, total_train = 0.0, 0, 0\n",
        "    all_train_preds, all_train_labels = [], []\n",
        "\n",
        "    for images, labels in train_dl_best:\n",
        "        images, labels = images.to(device), labels.to(device)\n",
        "        optimizer.zero_grad()\n",
        "        outputs = model(images)\n",
        "        loss = loss_function(outputs, labels)\n",
        "        loss.backward()\n",
        "        optimizer.step()\n",
        "\n",
        "        total_train_loss += loss.item()\n",
        "        preds = torch.argmax(outputs, dim=1)\n",
        "        all_train_preds.extend(preds.cpu().numpy())\n",
        "        all_train_labels.extend(labels.cpu().numpy())\n",
        "\n",
        "    # Compute metrics\n",
        "    train_loss = total_train_loss / len(train_dl_best)\n",
        "    train_accuracy = accuracy_score(all_train_labels, all_train_preds)\n",
        "    train_f1 = f1_score(all_train_labels, all_train_preds, average='weighted')\n",
        "\n",
        "    val_loss, val_accuracy, val_f1 = evaluate_model(model, val_dl_best, loss_function)\n",
        "\n",
        "    train_losses.append(train_loss)\n",
        "    val_losses.append(val_loss)\n",
        "    train_accuracies.append(train_accuracy)\n",
        "    val_accuracies.append(val_accuracy)\n",
        "    train_f1s.append(train_f1)\n",
        "    val_f1s.append(val_f1)\n",
        "\n",
        "    print(f\"Epoch {epoch+1}/10: Train Loss: {train_loss:.4f}, Train Acc: {train_accuracy:.4f}, Train F1: {train_f1:.4f} | \"\n",
        "          f\"Val Loss: {val_loss:.4f}, Val Acc: {val_accuracy:.4f}, Val F1: {val_f1:.4f}\")"
      ],
      "metadata": {
        "id": "C7b6pCNntAym",
        "colab": {
          "base_uri": "https://localhost:8080/"
        },
        "outputId": "2b090c03-57b4-4e6b-ddf8-d7ca1cc3a9b1"
      },
      "execution_count": null,
      "outputs": [
        {
          "output_type": "stream",
          "name": "stdout",
          "text": [
            "=== Training with best parameters: {'lr': 0.00017441617479647573, 'batch_size': 16, 'dropout': 0.14344290632454723} ===\n",
            "Epoch 1/10: Train Loss: 1.7081, Train Acc: 0.4037, Train F1: 0.3761 | Val Loss: 1.3453, Val Acc: 0.5218, Val F1: 0.4729\n",
            "Epoch 2/10: Train Loss: 1.3377, Train Acc: 0.5430, Train F1: 0.5265 | Val Loss: 1.2156, Val Acc: 0.5783, Val F1: 0.5612\n",
            "Epoch 3/10: Train Loss: 1.1768, Train Acc: 0.5942, Train F1: 0.5837 | Val Loss: 1.1563, Val Acc: 0.6106, Val F1: 0.5871\n",
            "Epoch 4/10: Train Loss: 1.0600, Train Acc: 0.6347, Train F1: 0.6269 | Val Loss: 0.9839, Val Acc: 0.6659, Val F1: 0.6632\n",
            "Epoch 5/10: Train Loss: 0.9863, Train Acc: 0.6610, Train F1: 0.6539 | Val Loss: 0.8810, Val Acc: 0.7128, Val F1: 0.7127\n",
            "Epoch 6/10: Train Loss: 0.9316, Train Acc: 0.6820, Train F1: 0.6767 | Val Loss: 0.8527, Val Acc: 0.7059, Val F1: 0.6981\n",
            "Epoch 7/10: Train Loss: 0.8688, Train Acc: 0.7019, Train F1: 0.6982 | Val Loss: 1.0110, Val Acc: 0.6677, Val F1: 0.6615\n"
          ]
        }
      ]
    },
    {
      "cell_type": "markdown",
      "source": [
        "### Conclusion\n",
        "Among the tested hyperparameter combinations, the best performance was achieved with a batch size of 32 and a learning rate of 0.0001, indicating an optimal balance between convergence stability and generalization."
      ],
      "metadata": {
        "id": "tidmRt7w-yv0"
      }
    }
  ]
}
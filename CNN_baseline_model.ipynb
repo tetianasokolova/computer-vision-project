{
  "nbformat": 4,
  "nbformat_minor": 0,
  "metadata": {
    "colab": {
      "provenance": [],
      "gpuType": "T4",
      "toc_visible": true,
      "include_colab_link": true
    },
    "kernelspec": {
      "name": "python3",
      "display_name": "Python 3"
    },
    "language_info": {
      "name": "python"
    },
    "accelerator": "GPU"
  },
  "cells": [
    {
      "cell_type": "markdown",
      "metadata": {
        "id": "view-in-github",
        "colab_type": "text"
      },
      "source": [
        "<a href=\"https://colab.research.google.com/github/tetianasokolova/computer-vision-project/blob/main/CNN_baseline_model.ipynb\" target=\"_parent\"><img src=\"https://colab.research.google.com/assets/colab-badge.svg\" alt=\"Open In Colab\"/></a>"
      ]
    },
    {
      "cell_type": "markdown",
      "source": [
        "# CNN Baseline Model for Training from Scratch\n",
        "A simple convolutional neural network implemented in PyTorch to establish a baseline accuracy before experimenting with advanced architectures and fine-tuning.\n"
      ],
      "metadata": {
        "id": "43Zy60v-6tJP"
      }
    },
    {
      "cell_type": "code",
      "source": [
        "import os\n",
        "import zipfile\n",
        "import matplotlib.pyplot as plt\n",
        "import numpy as np\n",
        "import random\n",
        "import torch\n",
        "import torchvision\n",
        "import torchvision.transforms as transforms\n",
        "import torchvision.datasets as datasets\n",
        "import torch.nn as nn\n",
        "import torch.nn.functional as F\n",
        "from sklearn.metrics import accuracy_score, f1_score, precision_score, recall_score\n",
        "from torch.utils.data import DataLoader, Dataset, random_split\n",
        "from torchvision.utils import make_grid\n",
        "from collections import defaultdict"
      ],
      "metadata": {
        "id": "UhoyrvVa1KHx"
      },
      "execution_count": null,
      "outputs": []
    },
    {
      "cell_type": "markdown",
      "source": [
        "## Load the dataset Animals-10\n",
        "Connect to Google Drive account."
      ],
      "metadata": {
        "id": "hWs7OM8Y9kD-"
      }
    },
    {
      "cell_type": "code",
      "execution_count": null,
      "metadata": {
        "id": "_ZrjwqBpodIr",
        "colab": {
          "base_uri": "https://localhost:8080/"
        },
        "outputId": "1a09d89a-6c79-4846-f2d6-ebde65931022"
      },
      "outputs": [
        {
          "output_type": "stream",
          "name": "stdout",
          "text": [
            "Mounted at /content/drive\n"
          ]
        }
      ],
      "source": [
        "from google.colab import drive\n",
        "drive.mount('/content/drive')"
      ]
    },
    {
      "cell_type": "code",
      "source": [
        "# Unzip in Colab's temporary storage\n",
        "zip_path = \"/content/drive/MyDrive/NaUKMAProgramming/DeepLearning/Data/Animals-10.zip\"\n",
        "data_path = \"/content/raw-img\"  # Extract in Colab's temporary storage\n",
        "\n",
        "if not os.path.exists(data_path):\n",
        "    with zipfile.ZipFile(zip_path, 'r') as zip_ref:\n",
        "        zip_ref.extractall(\"/content/\")  # Extract directly to /content/"
      ],
      "metadata": {
        "id": "qnyh6SQb1_uY"
      },
      "execution_count": null,
      "outputs": []
    },
    {
      "cell_type": "code",
      "source": [
        "# Load the data\n",
        "data = datasets.ImageFolder(root=data_path)"
      ],
      "metadata": {
        "id": "E-Yf-Aiz3yIm"
      },
      "execution_count": null,
      "outputs": []
    },
    {
      "cell_type": "markdown",
      "source": [
        "There are 26,179 images in Animal-10 dataset."
      ],
      "metadata": {
        "id": "4vwDLE383k7_"
      }
    },
    {
      "cell_type": "code",
      "source": [
        "len(data)"
      ],
      "metadata": {
        "colab": {
          "base_uri": "https://localhost:8080/"
        },
        "id": "BEQkpF_domS9",
        "outputId": "c2a20edb-1591-4f20-88cd-7cc9f3cfb59f"
      },
      "execution_count": null,
      "outputs": [
        {
          "output_type": "execute_result",
          "data": {
            "text/plain": [
              "26179"
            ]
          },
          "metadata": {},
          "execution_count": 5
        }
      ]
    },
    {
      "cell_type": "markdown",
      "source": [
        "Check classes of the data. We see that there are 10 classes of animals."
      ],
      "metadata": {
        "id": "BIF8Xsn3G4fL"
      }
    },
    {
      "cell_type": "code",
      "source": [
        "# Check class-to-index mapping\n",
        "data.classes"
      ],
      "metadata": {
        "colab": {
          "base_uri": "https://localhost:8080/"
        },
        "id": "Fb-ghPhk5G88",
        "outputId": "c86110ed-e1ca-4f3b-e9d3-a8034033cc43"
      },
      "execution_count": null,
      "outputs": [
        {
          "output_type": "execute_result",
          "data": {
            "text/plain": [
              "['cane',\n",
              " 'cavallo',\n",
              " 'elefante',\n",
              " 'farfalla',\n",
              " 'gallina',\n",
              " 'gatto',\n",
              " 'mucca',\n",
              " 'pecora',\n",
              " 'ragno',\n",
              " 'scoiattolo']"
            ]
          },
          "metadata": {},
          "execution_count": 6
        }
      ]
    },
    {
      "cell_type": "markdown",
      "source": [
        "Translate classes names from Italian to English using dictionary from Python file in the data archiv."
      ],
      "metadata": {
        "id": "NDs9Az9XNPcg"
      }
    },
    {
      "cell_type": "code",
      "source": [
        "translate = {\"cane\": \"dog\",\n",
        "             \"cavallo\": \"horse\",\n",
        "             \"elefante\": \"elephant\",\n",
        "             \"farfalla\": \"butterfly\",\n",
        "             \"gallina\": \"chicken\",\n",
        "             \"gatto\": \"cat\",\n",
        "             \"mucca\": \"cow\",\n",
        "             \"pecora\": \"sheep\",\n",
        "             \"ragno\": \"spider\",\n",
        "             \"scoiattolo\": \"squirrel\"}"
      ],
      "metadata": {
        "id": "eqSae8Hi4qKG"
      },
      "execution_count": null,
      "outputs": []
    },
    {
      "cell_type": "code",
      "source": [
        "data.classes = [translate.get(name, name) for name in data.classes]\n",
        "data.class_to_idx = {name: idx for idx, name in enumerate(data.classes)}"
      ],
      "metadata": {
        "id": "6lgSyT4XMwg4"
      },
      "execution_count": null,
      "outputs": []
    },
    {
      "cell_type": "code",
      "source": [
        "data.classes"
      ],
      "metadata": {
        "colab": {
          "base_uri": "https://localhost:8080/"
        },
        "id": "itqUNDRBNY8V",
        "outputId": "d4140cef-d2dc-4a68-a845-549d55f37aec"
      },
      "execution_count": null,
      "outputs": [
        {
          "output_type": "execute_result",
          "data": {
            "text/plain": [
              "['dog',\n",
              " 'horse',\n",
              " 'elephant',\n",
              " 'butterfly',\n",
              " 'chicken',\n",
              " 'cat',\n",
              " 'cow',\n",
              " 'sheep',\n",
              " 'spider',\n",
              " 'squirrel']"
            ]
          },
          "metadata": {},
          "execution_count": 9
        }
      ]
    },
    {
      "cell_type": "markdown",
      "source": [
        "## Transform data\n",
        "Set up data transformations for train, validation and test datasets. Add data augmentation to data transformation for train. We use the same data transformations for validation and test."
      ],
      "metadata": {
        "id": "PmVUk5AA9alw"
      }
    },
    {
      "cell_type": "code",
      "source": [
        "train_transform = transforms.Compose([\n",
        "    transforms.Resize((224, 224)),  # Resize images\n",
        "    transforms.RandomHorizontalFlip(),   # Flip the image horizontally with probability 0.5\n",
        "    transforms.RandomRotation(20),   # Rotate the image randomly by up to 10 degrees\n",
        "    transforms.ToTensor(),  # Scale pixel values from [0, 255] to [0, 1] and flip image format from H x W x C to C x H x W\n",
        "    transforms.Normalize((0.5, 0.5, 0.5), (0.5, 0.5, 0.5))  # Mean value for channels, sgd for channels; scale from [0,1] to [-1,1]\n",
        "])"
      ],
      "metadata": {
        "id": "5V7NPD5Z3oXb"
      },
      "execution_count": null,
      "outputs": []
    },
    {
      "cell_type": "code",
      "source": [
        "val_transform = transforms.Compose([\n",
        "    transforms.Resize((224, 224)),  # Resize images\n",
        "    transforms.RandomHorizontalFlip(),   # Flip the image horizontally with probability 0.5\n",
        "    transforms.RandomRotation(20),   # Rotate the image randomly by up to 10 degrees\n",
        "    transforms.ToTensor(),  # Scale pixel values from [0, 255] to [0, 1] and flip image format from H x W x C to C x H x W\n",
        "    transforms.Normalize((0.5, 0.5, 0.5), (0.5, 0.5, 0.5))  # Mean value for channels, sgd for channels; scale from [0,1] to [-1,1]\n",
        "])"
      ],
      "metadata": {
        "id": "hEgPXLCV9GGn"
      },
      "execution_count": null,
      "outputs": []
    },
    {
      "cell_type": "code",
      "source": [
        "test_transform = transforms.Compose([\n",
        "    transforms.Resize((224, 224)),  # Resize images\n",
        "    transforms.ToTensor(),  # Scale pixel values from [0, 255] to [0, 1] and flip image format from H x W x C to C x H x W\n",
        "    transforms.Normalize((0.5, 0.5, 0.5), (0.5, 0.5, 0.5))  # Mean value for channels, sgd for channels; scale from [0,1] to [-1,1]\n",
        "])"
      ],
      "metadata": {
        "id": "X32xEPOE9YF5"
      },
      "execution_count": null,
      "outputs": []
    },
    {
      "cell_type": "markdown",
      "source": [
        "## Split data into train, validation and test\n",
        "65% - train data, 15% - validation data and 20% - test data."
      ],
      "metadata": {
        "id": "VgCjAU4nCIMd"
      }
    },
    {
      "cell_type": "code",
      "source": [
        "train_ds, val_ds, test_ds = random_split(data, [0.65, 0.15, 0.2])"
      ],
      "metadata": {
        "id": "3qT6PPTIAeq-"
      },
      "execution_count": null,
      "outputs": []
    },
    {
      "cell_type": "markdown",
      "source": [
        "Create a class TransformedSubset to apply separate transformation to each subset after split."
      ],
      "metadata": {
        "id": "mpqwqCHfyorh"
      }
    },
    {
      "cell_type": "code",
      "source": [
        "class TransformedSubset(Dataset):\n",
        "    def __init__(self, subset, transform=None):\n",
        "        self.subset = subset\n",
        "        self.transform = transform\n",
        "\n",
        "    def __getitem__(self, index):\n",
        "        x, y = self.subset[index]\n",
        "        if self.transform:\n",
        "            x = self.transform(x)\n",
        "        return x, y\n",
        "\n",
        "    def __len__(self):\n",
        "        return len(self.subset)"
      ],
      "metadata": {
        "id": "bOKW4Bj1ygfG"
      },
      "execution_count": null,
      "outputs": []
    },
    {
      "cell_type": "markdown",
      "source": [
        "Apply data transformations to each subset."
      ],
      "metadata": {
        "id": "W9dYKmNAeOao"
      }
    },
    {
      "cell_type": "code",
      "source": [
        "train_ds = TransformedSubset(train_ds, transform=train_transform)\n",
        "val_ds = TransformedSubset(val_ds, transform=val_transform)\n",
        "test_ds = TransformedSubset(test_ds, transform=test_transform)"
      ],
      "metadata": {
        "id": "e_ks_HC8FFaZ"
      },
      "execution_count": null,
      "outputs": []
    },
    {
      "cell_type": "markdown",
      "source": [
        "Check size of each dataset after split."
      ],
      "metadata": {
        "id": "gth1CZpWsSyZ"
      }
    },
    {
      "cell_type": "code",
      "source": [
        "len(train_ds), len(val_ds), len(test_ds)"
      ],
      "metadata": {
        "colab": {
          "base_uri": "https://localhost:8080/"
        },
        "id": "YCYb6znssA1s",
        "outputId": "14eeea54-0a57-43a9-f44b-ef03bb4de4f2"
      },
      "execution_count": null,
      "outputs": [
        {
          "output_type": "execute_result",
          "data": {
            "text/plain": [
              "(17017, 3927, 5235)"
            ]
          },
          "metadata": {},
          "execution_count": 16
        }
      ]
    },
    {
      "cell_type": "markdown",
      "source": [
        "Make dataloaders for train, validaton and test data to simplify loading process by batches."
      ],
      "metadata": {
        "id": "Brs8LJ3PP32v"
      }
    },
    {
      "cell_type": "code",
      "source": [
        "batch_size = 32\n",
        "\n",
        "train_dl = DataLoader(train_ds, batch_size=batch_size, shuffle=True, num_workers=2, pin_memory=True)\n",
        "val_dl = DataLoader(val_ds, batch_size=batch_size, shuffle=False, num_workers=2, pin_memory=True)\n",
        "test_dl = DataLoader(test_ds, batch_size=batch_size, shuffle=False, num_workers=2, pin_memory=True)"
      ],
      "metadata": {
        "id": "4-m9qHzp3thk"
      },
      "execution_count": null,
      "outputs": []
    },
    {
      "cell_type": "code",
      "source": [
        "!pip install ann_visualizer"
      ],
      "metadata": {
        "colab": {
          "base_uri": "https://localhost:8080/"
        },
        "id": "rG-Cs_zLeBzv",
        "outputId": "99442c47-d69d-4a09-9448-fef4090949d5"
      },
      "execution_count": null,
      "outputs": [
        {
          "output_type": "stream",
          "name": "stdout",
          "text": [
            "Collecting ann_visualizer\n",
            "  Downloading ann_visualizer-2.5.tar.gz (4.7 kB)\n",
            "  Preparing metadata (setup.py) ... \u001b[?25l\u001b[?25hdone\n",
            "Building wheels for collected packages: ann_visualizer\n",
            "  Building wheel for ann_visualizer (setup.py) ... \u001b[?25l\u001b[?25hdone\n",
            "  Created wheel for ann_visualizer: filename=ann_visualizer-2.5-py3-none-any.whl size=4169 sha256=2a3e350690384ef0ad5b1c7de2d88d0c471ff10ee71aab76dc5b6b9d62220ee3\n",
            "  Stored in directory: /root/.cache/pip/wheels/28/4a/ad/e82da1aad2994e42bf0f4b1d403fdd8a64dfc38ae2c8a5daa4\n",
            "Successfully built ann_visualizer\n",
            "Installing collected packages: ann_visualizer\n",
            "Successfully installed ann_visualizer-2.5\n"
          ]
        }
      ]
    },
    {
      "cell_type": "code",
      "source": [
        "from ann_visualizer.visualize import ann_viz\n",
        "from torchsummary import summary"
      ],
      "metadata": {
        "id": "OwtOTuTAkhQC"
      },
      "execution_count": null,
      "outputs": []
    },
    {
      "cell_type": "markdown",
      "source": [
        "## Define CNN architecture"
      ],
      "metadata": {
        "id": "pxFCguRItzh9"
      }
    },
    {
      "cell_type": "markdown",
      "source": [
        "Create a model with 4 convolutional layers followed by 2 fully-connected layers and output layer. We use 5x5 filter for the first layer and 3x3 filters for other convolutional layers, with padding to preserve the dimension of the picture. As activation function ReLU is used and max pooling is added. Add batch normalization to convolutional layers and dropout to fully-connected layers."
      ],
      "metadata": {
        "id": "ocU_M3XVllBi"
      }
    },
    {
      "cell_type": "code",
      "source": [
        "class CNN(nn.Module):\n",
        "    def __init__(self):\n",
        "        super().__init__()\n",
        "\n",
        "        # Convolutional layers\n",
        "        self.conv1 = nn.Conv2d(in_channels=3, out_channels=32, kernel_size=5, stride=1, padding=2)\n",
        "        self.bn1 = nn.BatchNorm2d(32)\n",
        "        self.relu1 = nn.ReLU()\n",
        "        self.maxpool1 = nn.MaxPool2d(kernel_size=2, stride=2)\n",
        "\n",
        "        self.conv2 = nn.Conv2d(in_channels=32, out_channels=64, kernel_size=3, stride=1, padding=1)\n",
        "        self.bn2 = nn.BatchNorm2d(64)\n",
        "        self.relu2 = nn.ReLU()\n",
        "        self.maxpool2 = nn.MaxPool2d(kernel_size=2, stride=2)\n",
        "\n",
        "        self.conv3 = nn.Conv2d(in_channels=64, out_channels=128, kernel_size=3, stride=1, padding=1)\n",
        "        self.bn3 = nn.BatchNorm2d(128)\n",
        "        self.relu3 = nn.ReLU()\n",
        "        self.maxpool3 = nn.MaxPool2d(kernel_size=2, stride=2)\n",
        "\n",
        "        self.conv4 = nn.Conv2d(in_channels=128, out_channels=256, kernel_size=3, stride=1, padding=1)\n",
        "        self.bn4 = nn.BatchNorm2d(256)\n",
        "        self.relu4 = nn.ReLU()\n",
        "        self.maxpool4 = nn.MaxPool2d(kernel_size=2, stride=2)\n",
        "\n",
        "        # Fully connected layers\n",
        "        self.fc1 = nn.Linear(256*14*14, 512)\n",
        "        self.dropout1 = nn.Dropout(0.2)\n",
        "        self.relu5 = nn.ReLU()\n",
        "\n",
        "        self.fc2 = nn.Linear(512, 256)\n",
        "        self.dropout2 = nn.Dropout(0.2)\n",
        "        self.relu6 = nn.ReLU()\n",
        "\n",
        "        self.fc3 = nn.Linear(256, 10)  # Output layer (logits)\n",
        "\n",
        "    def forward(self, x):\n",
        "        out = self.conv1(x)\n",
        "        out = self.bn1(out)\n",
        "        out = self.relu1(out)\n",
        "        out = self.maxpool1(out)\n",
        "\n",
        "        out = self.conv2(out)\n",
        "        out = self.bn2(out)\n",
        "        out = self.relu2(out)\n",
        "        out = self.maxpool2(out)\n",
        "\n",
        "        out = self.conv3(out)\n",
        "        out = self.bn3(out)\n",
        "        out = self.relu3(out)\n",
        "        out = self.maxpool3(out)\n",
        "\n",
        "        out = self.conv4(out)\n",
        "        out = self.bn4(out)\n",
        "        out = self.relu4(out)\n",
        "        out = self.maxpool4(out)\n",
        "\n",
        "        out = out.view(out.size(0), -1)  # Flatten\n",
        "        out = self.fc1(out)\n",
        "        out = self.dropout1(out)\n",
        "        out = self.relu5(out)\n",
        "\n",
        "        out = self.fc2(out)\n",
        "        out = self.dropout2(out)\n",
        "        out = self.relu6(out)\n",
        "\n",
        "        out = self.fc3(out)\n",
        "        return out"
      ],
      "metadata": {
        "id": "LRgPvrJq5i6w"
      },
      "execution_count": null,
      "outputs": []
    },
    {
      "cell_type": "code",
      "source": [
        "model = CNN()"
      ],
      "metadata": {
        "id": "TlpYGT9DlJmZ"
      },
      "execution_count": null,
      "outputs": []
    },
    {
      "cell_type": "code",
      "source": [
        "loss_function = nn.CrossEntropyLoss()\n",
        "optimizer = torch.optim.Adam(model.parameters(), lr=0.001)\n",
        "epochs = 20"
      ],
      "metadata": {
        "id": "oFgIqST3l9d1"
      },
      "execution_count": null,
      "outputs": []
    },
    {
      "cell_type": "code",
      "source": [
        "device = torch.device(\"cuda\" if torch.cuda.is_available() else \"cpu\")"
      ],
      "metadata": {
        "id": "8XOeK6-Omg6V"
      },
      "execution_count": null,
      "outputs": []
    },
    {
      "cell_type": "code",
      "source": [
        "device"
      ],
      "metadata": {
        "colab": {
          "base_uri": "https://localhost:8080/"
        },
        "id": "DCBeg8lGpLUs",
        "outputId": "fa020969-def0-4f4e-a190-196ba1d0a35e"
      },
      "execution_count": null,
      "outputs": [
        {
          "output_type": "execute_result",
          "data": {
            "text/plain": [
              "device(type='cuda')"
            ]
          },
          "metadata": {},
          "execution_count": 24
        }
      ]
    },
    {
      "cell_type": "code",
      "source": [
        "# Move model to GPU\n",
        "model.to(device)"
      ],
      "metadata": {
        "colab": {
          "base_uri": "https://localhost:8080/"
        },
        "id": "tkXX12WAyTql",
        "outputId": "03b3cddc-c13b-41eb-f81a-19c8e641960e"
      },
      "execution_count": null,
      "outputs": [
        {
          "output_type": "execute_result",
          "data": {
            "text/plain": [
              "CNN(\n",
              "  (conv1): Conv2d(3, 32, kernel_size=(5, 5), stride=(1, 1), padding=(2, 2))\n",
              "  (bn1): BatchNorm2d(32, eps=1e-05, momentum=0.1, affine=True, track_running_stats=True)\n",
              "  (relu1): ReLU()\n",
              "  (maxpool1): MaxPool2d(kernel_size=2, stride=2, padding=0, dilation=1, ceil_mode=False)\n",
              "  (conv2): Conv2d(32, 64, kernel_size=(3, 3), stride=(1, 1), padding=(1, 1))\n",
              "  (bn2): BatchNorm2d(64, eps=1e-05, momentum=0.1, affine=True, track_running_stats=True)\n",
              "  (relu2): ReLU()\n",
              "  (maxpool2): MaxPool2d(kernel_size=2, stride=2, padding=0, dilation=1, ceil_mode=False)\n",
              "  (conv3): Conv2d(64, 128, kernel_size=(3, 3), stride=(1, 1), padding=(1, 1))\n",
              "  (bn3): BatchNorm2d(128, eps=1e-05, momentum=0.1, affine=True, track_running_stats=True)\n",
              "  (relu3): ReLU()\n",
              "  (maxpool3): MaxPool2d(kernel_size=2, stride=2, padding=0, dilation=1, ceil_mode=False)\n",
              "  (conv4): Conv2d(128, 256, kernel_size=(3, 3), stride=(1, 1), padding=(1, 1))\n",
              "  (bn4): BatchNorm2d(256, eps=1e-05, momentum=0.1, affine=True, track_running_stats=True)\n",
              "  (relu4): ReLU()\n",
              "  (maxpool4): MaxPool2d(kernel_size=2, stride=2, padding=0, dilation=1, ceil_mode=False)\n",
              "  (fc1): Linear(in_features=50176, out_features=512, bias=True)\n",
              "  (dropout1): Dropout(p=0.2, inplace=False)\n",
              "  (relu5): ReLU()\n",
              "  (fc2): Linear(in_features=512, out_features=256, bias=True)\n",
              "  (dropout2): Dropout(p=0.2, inplace=False)\n",
              "  (relu6): ReLU()\n",
              "  (fc3): Linear(in_features=256, out_features=10, bias=True)\n",
              ")"
            ]
          },
          "metadata": {},
          "execution_count": 25
        }
      ]
    },
    {
      "cell_type": "markdown",
      "source": [
        "## Train the model"
      ],
      "metadata": {
        "id": "rzbyJs0oRLmx"
      }
    },
    {
      "cell_type": "code",
      "source": [
        "# Function to evaluate mode\n",
        "def evaluate_model(model, dataloader):\n",
        "    model.eval()\n",
        "    total_loss = 0.0\n",
        "    all_preds = []\n",
        "    all_labels = []\n",
        "\n",
        "    with torch.no_grad():\n",
        "        for images, labels in dataloader:\n",
        "            images, labels = images.to(device), labels.to(device)\n",
        "            outputs = model(images)\n",
        "            loss = loss_function(outputs, labels)\n",
        "            total_loss += loss.item()\n",
        "\n",
        "            preds = torch.argmax(outputs, dim=1)\n",
        "            all_preds.extend(preds.cpu().numpy())\n",
        "            all_labels.extend(labels.cpu().numpy())\n",
        "\n",
        "        val_loss = total_loss / len(dataloader)\n",
        "        accuracy = accuracy_score(all_labels, all_preds)\n",
        "        f1 = f1_score(all_labels, all_preds, average='weighted')\n",
        "        return val_loss, accuracy, f1\n",
        "\n",
        "# Train the model\n",
        "train_losses, val_losses = [], []\n",
        "train_accuracies, val_accuracies = [], []\n",
        "train_f1s, val_f1s = [], []\n",
        "\n",
        "for epoch in range(epochs):\n",
        "    model.train()\n",
        "    running_loss = 0.0\n",
        "    all_preds, all_labels = [], []\n",
        "\n",
        "    for images, labels in train_dl:\n",
        "        images, labels = images.to(device), labels.to(device)\n",
        "        optimizer.zero_grad()\n",
        "        outputs = model(images)\n",
        "        loss = loss_function(outputs, labels)\n",
        "        loss.backward()\n",
        "        optimizer.step()\n",
        "\n",
        "        running_loss += loss.item()\n",
        "        preds = torch.argmax(outputs, dim=1)\n",
        "        all_preds.extend(preds.cpu().numpy())\n",
        "        all_labels.extend(labels.cpu().numpy())\n",
        "\n",
        "    train_loss = running_loss / len(train_dl)\n",
        "    train_accuracy = accuracy_score(all_labels, all_preds)\n",
        "    train_f1 = f1_score(all_labels, all_preds, average='weighted')\n",
        "\n",
        "    val_loss, val_accuracy, val_f1 = evaluate_model(model, val_dl)\n",
        "\n",
        "    train_losses.append(train_loss)\n",
        "    val_losses.append(val_loss)\n",
        "    train_accuracies.append(train_accuracy)\n",
        "    val_accuracies.append(val_accuracy)\n",
        "    train_f1s.append(train_f1)\n",
        "    val_f1s.append(val_f1)\n",
        "\n",
        "    print(f\"Epoch {epoch+1}/{epochs}: \"\n",
        "          f\"Train Loss: {train_loss:.4f}, Train Acc: {train_accuracy:.4f}, Train F1: {train_f1:.4f} | \"\n",
        "          f\"Val Loss: {val_loss:.4f}, Val Acc: {val_accuracy:.4f}, Val F1: {val_f1:.4f}\")\n"
      ],
      "metadata": {
        "colab": {
          "base_uri": "https://localhost:8080/"
        },
        "id": "6qQ1xKe7m2OW",
        "outputId": "afc821ec-2b4c-452d-cd2c-12f129fca263"
      },
      "execution_count": null,
      "outputs": [
        {
          "output_type": "stream",
          "name": "stdout",
          "text": [
            "Epoch 1/20: Train Loss: 2.2382, Train Acc: 0.2447, Train F1: 0.2094 | Val Loss: 1.9195, Val Acc: 0.3239, Val F1: 0.2828\n",
            "Epoch 2/20: Train Loss: 1.8286, Train Acc: 0.3612, Train F1: 0.3197 | Val Loss: 1.7258, Val Acc: 0.3990, Val F1: 0.3452\n",
            "Epoch 3/20: Train Loss: 1.6953, Train Acc: 0.4178, Train F1: 0.3831 | Val Loss: 1.5440, Val Acc: 0.4787, Val F1: 0.4447\n",
            "Epoch 4/20: Train Loss: 1.5974, Train Acc: 0.4531, Train F1: 0.4286 | Val Loss: 1.4636, Val Acc: 0.5075, Val F1: 0.4816\n",
            "Epoch 5/20: Train Loss: 1.5044, Train Acc: 0.4843, Train F1: 0.4640 | Val Loss: 1.3726, Val Acc: 0.5455, Val F1: 0.5046\n",
            "Epoch 6/20: Train Loss: 1.4104, Train Acc: 0.5230, Train F1: 0.5065 | Val Loss: 1.2864, Val Acc: 0.5826, Val F1: 0.5671\n",
            "Epoch 7/20: Train Loss: 1.3091, Train Acc: 0.5556, Train F1: 0.5412 | Val Loss: 1.2329, Val Acc: 0.5931, Val F1: 0.5686\n",
            "Epoch 8/20: Train Loss: 1.2459, Train Acc: 0.5763, Train F1: 0.5643 | Val Loss: 1.1561, Val Acc: 0.6155, Val F1: 0.6044\n",
            "Epoch 9/20: Train Loss: 1.1766, Train Acc: 0.6042, Train F1: 0.5931 | Val Loss: 1.1160, Val Acc: 0.6308, Val F1: 0.6068\n",
            "Epoch 10/20: Train Loss: 1.1145, Train Acc: 0.6233, Train F1: 0.6147 | Val Loss: 1.1711, Val Acc: 0.6168, Val F1: 0.5940\n",
            "Epoch 11/20: Train Loss: 1.0681, Train Acc: 0.6361, Train F1: 0.6278 | Val Loss: 1.0394, Val Acc: 0.6580, Val F1: 0.6464\n",
            "Epoch 12/20: Train Loss: 1.0152, Train Acc: 0.6615, Train F1: 0.6549 | Val Loss: 1.0272, Val Acc: 0.6608, Val F1: 0.6601\n",
            "Epoch 13/20: Train Loss: 0.9664, Train Acc: 0.6740, Train F1: 0.6690 | Val Loss: 0.9517, Val Acc: 0.6786, Val F1: 0.6656\n",
            "Epoch 14/20: Train Loss: 0.9220, Train Acc: 0.6898, Train F1: 0.6852 | Val Loss: 0.9289, Val Acc: 0.6957, Val F1: 0.6920\n",
            "Epoch 15/20: Train Loss: 0.8918, Train Acc: 0.7009, Train F1: 0.6963 | Val Loss: 0.8792, Val Acc: 0.7145, Val F1: 0.7107\n",
            "Epoch 16/20: Train Loss: 0.8490, Train Acc: 0.7168, Train F1: 0.7129 | Val Loss: 0.9646, Val Acc: 0.6830, Val F1: 0.6814\n",
            "Epoch 17/20: Train Loss: 0.8202, Train Acc: 0.7264, Train F1: 0.7231 | Val Loss: 0.9282, Val Acc: 0.6949, Val F1: 0.6922\n",
            "Epoch 18/20: Train Loss: 0.7874, Train Acc: 0.7419, Train F1: 0.7392 | Val Loss: 0.9123, Val Acc: 0.7028, Val F1: 0.7030\n",
            "Epoch 19/20: Train Loss: 0.7579, Train Acc: 0.7481, Train F1: 0.7455 | Val Loss: 0.8017, Val Acc: 0.7280, Val F1: 0.7247\n",
            "Epoch 20/20: Train Loss: 0.7362, Train Acc: 0.7560, Train F1: 0.7539 | Val Loss: 0.8125, Val Acc: 0.7408, Val F1: 0.7366\n"
          ]
        }
      ]
    },
    {
      "cell_type": "markdown",
      "source": [
        "## Save the model"
      ],
      "metadata": {
        "id": "Pn8kvYm2S23b"
      }
    },
    {
      "cell_type": "code",
      "source": [
        "torch.save(model, 'model_full.pth')"
      ],
      "metadata": {
        "id": "H2kQjezuQjga"
      },
      "execution_count": null,
      "outputs": []
    },
    {
      "cell_type": "markdown",
      "source": [
        "## Evaluate the model on test data"
      ],
      "metadata": {
        "id": "PQfPmCJcUlDG"
      }
    },
    {
      "cell_type": "code",
      "source": [
        "from sklearn.metrics import classification_report\n",
        "\n",
        "predicted_labels = []\n",
        "true_labels = []\n",
        "\n",
        "model.eval()   # Set to evaluation mode\n",
        "with torch.no_grad():\n",
        "  for images, labels in test_dl:\n",
        "    images, labels = images.to(device), labels.to(device)\n",
        "    outputs = model(images)\n",
        "    _, predicted = torch.max(outputs, 1)\n",
        "    predicted_labels.extend(predicted.cpu().numpy())\n",
        "    true_labels.extend(labels.cpu().numpy())\n",
        "\n",
        "# Calculate metrics\n",
        "report = classification_report(true_labels, predicted_labels, target_names=data.classes, digits=4)\n",
        "print(\"Classification Report:\\n\")\n",
        "print(report)"
      ],
      "metadata": {
        "colab": {
          "base_uri": "https://localhost:8080/"
        },
        "id": "w5wSiRW5T157",
        "outputId": "7c83a271-c927-4e6b-9ef4-af1b14ba4f1a"
      },
      "execution_count": null,
      "outputs": [
        {
          "output_type": "stream",
          "name": "stdout",
          "text": [
            "Classification Report:\n",
            "\n",
            "              precision    recall  f1-score   support\n",
            "\n",
            "         dog     0.6895    0.7925    0.7374      1017\n",
            "       horse     0.7937    0.6362    0.7063       514\n",
            "    elephant     0.7944    0.7269    0.7592       271\n",
            "   butterfly     0.7967    0.8102    0.8034       411\n",
            "     chicken     0.8971    0.7687    0.8280       601\n",
            "         cat     0.7290    0.4800    0.5788       325\n",
            "         cow     0.6974    0.4871    0.5736       388\n",
            "       sheep     0.6100    0.6952    0.6498       351\n",
            "      spider     0.7584    0.9420    0.8403       983\n",
            "    squirrel     0.7139    0.7005    0.7072       374\n",
            "\n",
            "    accuracy                         0.7454      5235\n",
            "   macro avg     0.7480    0.7039    0.7184      5235\n",
            "weighted avg     0.7498    0.7454    0.7404      5235\n",
            "\n"
          ]
        }
      ]
    },
    {
      "cell_type": "markdown",
      "source": [
        "- Overall accuracy of 74.5% on test data indicats good performance.\n",
        "- **Best performing classes** are **chicken** (F1 score: 0.8280) and **spider** (F1: 0.8403).\n",
        "- **Worst performing classes** are **cat** (F1: 0.5788) and **cow** (F1: 0.5736).\n",
        "- Lower recall in some classes (horse, cow and cat) suggests that the model may favor more frequent classes."
      ],
      "metadata": {
        "id": "kbjk8QxncvBY"
      }
    },
    {
      "cell_type": "markdown",
      "source": [
        "## Visualise train results"
      ],
      "metadata": {
        "id": "Uj3ch5QeT2bI"
      }
    },
    {
      "cell_type": "markdown",
      "source": [
        "We see that the model shows steady improvement over 20 epochs.\n",
        "- **Training loss** drops from 2.24 to 0.74, and **validation loss** from 1.92 to 0.81, indicating better learning of the model.\n",
        "- **Training accuracy** rises from 24.5% to 75.6%, and **validation accuracy** from 32.4% to 74.1%, showing good generalization of the model.\n",
        "- **Train F1 score** improves from 0.21 to 0.75, and **validation F1 score** from 0.28 to 0.74, which suggests balanced precision and recall."
      ],
      "metadata": {
        "id": "ETVVpbJcaLIP"
      }
    },
    {
      "cell_type": "code",
      "source": [
        "# Plot Loss\n",
        "plt.figure(figsize=(10,5))\n",
        "plt.plot(train_losses, label='Training Loss')\n",
        "plt.plot(val_losses, label='Validation Loss')\n",
        "plt.xlabel('Epochs')\n",
        "plt.ylabel('Loss')\n",
        "plt.title('Loss Curve')\n",
        "plt.legend()\n",
        "plt.grid(True)\n",
        "plt.show()"
      ],
      "metadata": {
        "colab": {
          "base_uri": "https://localhost:8080/",
          "height": 487
        },
        "id": "0ZeWUa9zYHnI",
        "outputId": "9f11f804-4862-487c-b1a4-70d2f98ef962"
      },
      "execution_count": null,
      "outputs": [
        {
          "output_type": "display_data",
          "data": {
            "text/plain": [
              "<Figure size 1000x500 with 1 Axes>"
            ],
            "image/png": "[encoded data removed]"
          },
          "metadata": {}
        }
      ]
    },
    {
      "cell_type": "code",
      "source": [
        "# Plot Accuracy\n",
        "plt.figure(figsize=(10,5))\n",
        "plt.plot(train_accuracies, label='Training Accuracy')\n",
        "plt.plot(val_accuracies, label='Validation Accuracy')\n",
        "plt.xlabel('Epochs')\n",
        "plt.ylabel('Accuracy')\n",
        "plt.title('Accuracy Curve')\n",
        "plt.legend()\n",
        "plt.grid(True)\n",
        "plt.show()"
      ],
      "metadata": {
        "colab": {
          "base_uri": "https://localhost:8080/",
          "height": 487
        },
        "id": "PqFGGVGzYXNF",
        "outputId": "815da678-4995-4a62-ab52-8a9e7d70f5df"
      },
      "execution_count": null,
      "outputs": [
        {
          "output_type": "display_data",
          "data": {
            "text/plain": [
              "<Figure size 1000x500 with 1 Axes>"
            ],
            "image/png": "[encoded data removed]"
          },
          "metadata": {}
        }
      ]
    },
    {
      "cell_type": "code",
      "source": [
        "# Plot F1-score\n",
        "plt.figure(figsize=(10,5))\n",
        "plt.plot(train_f1s, label='Training F1 Score')\n",
        "plt.plot(val_f1s, label='Validation F1 Score')\n",
        "plt.xlabel('Epochs')\n",
        "plt.ylabel('F1 Score')\n",
        "plt.title('F1 Score Curve')\n",
        "plt.legend()\n",
        "plt.grid(True)\n",
        "plt.show()"
      ],
      "metadata": {
        "colab": {
          "base_uri": "https://localhost:8080/",
          "height": 487
        },
        "id": "BWueYxv8ZoxD",
        "outputId": "96189aa0-dd04-45c6-d75a-4024889298ea"
      },
      "execution_count": null,
      "outputs": [
        {
          "output_type": "display_data",
          "data": {
            "text/plain": [
              "<Figure size 1000x500 with 1 Axes>"
            ],
            "image/png": "[encoded data removed]"
          },
          "metadata": {}
        }
      ]
    }
  ]
}
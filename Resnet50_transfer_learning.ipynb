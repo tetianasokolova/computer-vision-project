{
  "nbformat": 4,
  "nbformat_minor": 0,
  "metadata": {
    "colab": {
      "provenance": [],
      "gpuType": "T4",
      "toc_visible": true,
      "include_colab_link": true
    },
    "kernelspec": {
      "name": "python3",
      "display_name": "Python 3"
    },
    "language_info": {
      "name": "python"
    },
    "accelerator": "GPU"
  },
  "cells": [
    {
      "cell_type": "markdown",
      "metadata": {
        "id": "view-in-github",
        "colab_type": "text"
      },
      "source": [
        "<a href=\"https://colab.research.google.com/github/tetianasokolova/computer-vision-project/blob/main/Resnet50_transfer_learning.ipynb\" target=\"_parent\"><img src=\"https://colab.research.google.com/assets/colab-badge.svg\" alt=\"Open In Colab\"/></a>"
      ]
    },
    {
      "cell_type": "markdown",
      "source": [
        "# Transfer Learning with ResNet50 and Fine-Tuning\n",
        "\n",
        "Applying transfer learning using the ResNet50 architecture pretrained on ImageNet to improve accuracy."
      ],
      "metadata": {
        "id": "43Zy60v-6tJP"
      }
    },
    {
      "cell_type": "code",
      "source": [
        "import torch\n",
        "import torch.nn as nn\n",
        "from torchvision import models, transforms, datasets\n",
        "from torch.utils.data import DataLoader, Dataset, Subset\n",
        "from sklearn.model_selection import train_test_split\n",
        "from sklearn.metrics import accuracy_score, f1_score, classification_report, confusion_matrix\n",
        "import numpy as np\n",
        "import matplotlib.pyplot as plt\n",
        "import seaborn as sns\n",
        "import os, zipfile"
      ],
      "metadata": {
        "id": "UhoyrvVa1KHx"
      },
      "execution_count": null,
      "outputs": []
    },
    {
      "cell_type": "markdown",
      "source": [
        "## Load the dataset Animals-10\n",
        "Connect to Google Drive account."
      ],
      "metadata": {
        "id": "hWs7OM8Y9kD-"
      }
    },
    {
      "cell_type": "code",
      "execution_count": null,
      "metadata": {
        "id": "_ZrjwqBpodIr",
        "colab": {
          "base_uri": "https://localhost:8080/"
        },
        "outputId": "2f332657-c73a-47f6-df52-64987fa8bc64"
      },
      "outputs": [
        {
          "output_type": "stream",
          "name": "stdout",
          "text": [
            "Mounted at /content/drive\n"
          ]
        }
      ],
      "source": [
        "from google.colab import drive\n",
        "drive.mount('/content/drive')"
      ]
    },
    {
      "cell_type": "code",
      "source": [
        "# Unzip in Colab's temporary storage\n",
        "zip_path = \"/content/drive/MyDrive/CVDL/Data/Animals-10.zip\"\n",
        "data_path = \"/content/raw-img\"  # Extract in Colab's temporary storage\n",
        "\n",
        "if not os.path.exists(data_path):\n",
        "    with zipfile.ZipFile(zip_path, 'r') as zip_ref:\n",
        "        zip_ref.extractall(\"/content/\")  # Extract directly to /content/"
      ],
      "metadata": {
        "id": "qnyh6SQb1_uY"
      },
      "execution_count": null,
      "outputs": []
    },
    {
      "cell_type": "code",
      "source": [
        "# Load the data\n",
        "data = datasets.ImageFolder(root=data_path)"
      ],
      "metadata": {
        "id": "E-Yf-Aiz3yIm"
      },
      "execution_count": null,
      "outputs": []
    },
    {
      "cell_type": "markdown",
      "source": [
        "There are 26,179 images in Animal-10 dataset."
      ],
      "metadata": {
        "id": "4vwDLE383k7_"
      }
    },
    {
      "cell_type": "code",
      "source": [
        "len(data)"
      ],
      "metadata": {
        "colab": {
          "base_uri": "https://localhost:8080/"
        },
        "id": "BEQkpF_domS9",
        "outputId": "575179f2-cf7e-43d7-f0ef-02b16479d629"
      },
      "execution_count": null,
      "outputs": [
        {
          "output_type": "execute_result",
          "data": {
            "text/plain": [
              "26179"
            ]
          },
          "metadata": {},
          "execution_count": 5
        }
      ]
    },
    {
      "cell_type": "markdown",
      "source": [
        "Check classes of the data. We see that there are 10 classes of animals."
      ],
      "metadata": {
        "id": "BIF8Xsn3G4fL"
      }
    },
    {
      "cell_type": "code",
      "source": [
        "# Check class-to-index mapping\n",
        "data.classes"
      ],
      "metadata": {
        "colab": {
          "base_uri": "https://localhost:8080/"
        },
        "id": "Fb-ghPhk5G88",
        "outputId": "5c4fa1a8-97a1-4939-84d2-4fa15f6d7e4c"
      },
      "execution_count": null,
      "outputs": [
        {
          "output_type": "execute_result",
          "data": {
            "text/plain": [
              "['cane',\n",
              " 'cavallo',\n",
              " 'elefante',\n",
              " 'farfalla',\n",
              " 'gallina',\n",
              " 'gatto',\n",
              " 'mucca',\n",
              " 'pecora',\n",
              " 'ragno',\n",
              " 'scoiattolo']"
            ]
          },
          "metadata": {},
          "execution_count": 6
        }
      ]
    },
    {
      "cell_type": "markdown",
      "source": [
        "Translate classes names from Italian to English using dictionary from Python file in the data archiv."
      ],
      "metadata": {
        "id": "NDs9Az9XNPcg"
      }
    },
    {
      "cell_type": "code",
      "source": [
        "translate = {\"cane\": \"dog\",\n",
        "             \"cavallo\": \"horse\",\n",
        "             \"elefante\": \"elephant\",\n",
        "             \"farfalla\": \"butterfly\",\n",
        "             \"gallina\": \"chicken\",\n",
        "             \"gatto\": \"cat\",\n",
        "             \"mucca\": \"cow\",\n",
        "             \"pecora\": \"sheep\",\n",
        "             \"ragno\": \"spider\",\n",
        "             \"scoiattolo\": \"squirrel\"}"
      ],
      "metadata": {
        "id": "eqSae8Hi4qKG"
      },
      "execution_count": null,
      "outputs": []
    },
    {
      "cell_type": "code",
      "source": [
        "data.classes = [translate.get(name, name) for name in data.classes]\n",
        "data.class_to_idx = {name: idx for idx, name in enumerate(data.classes)}"
      ],
      "metadata": {
        "id": "6lgSyT4XMwg4"
      },
      "execution_count": null,
      "outputs": []
    },
    {
      "cell_type": "code",
      "source": [
        "data.classes"
      ],
      "metadata": {
        "colab": {
          "base_uri": "https://localhost:8080/"
        },
        "id": "itqUNDRBNY8V",
        "outputId": "3e9c350e-4f34-40c3-9dee-4f6b7ca08fc3"
      },
      "execution_count": null,
      "outputs": [
        {
          "output_type": "execute_result",
          "data": {
            "text/plain": [
              "['dog',\n",
              " 'horse',\n",
              " 'elephant',\n",
              " 'butterfly',\n",
              " 'chicken',\n",
              " 'cat',\n",
              " 'cow',\n",
              " 'sheep',\n",
              " 'spider',\n",
              " 'squirrel']"
            ]
          },
          "metadata": {},
          "execution_count": 9
        }
      ]
    },
    {
      "cell_type": "markdown",
      "source": [
        "## Split data into train, validation and test\n",
        "60% - train data, 20% - validation data and 20% - test data. Do stratified split, to ensure the same proportion of images for each class."
      ],
      "metadata": {
        "id": "VgCjAU4nCIMd"
      }
    },
    {
      "cell_type": "code",
      "source": [
        "# Extract labels for stratification\n",
        "labels = np.array(data.targets)\n",
        "\n",
        "# Split into 80% (train+val) and 20% (test)\n",
        "train_val_idx, test_idx = train_test_split(\n",
        "    np.arange(len(data)), test_size=0.2, random_state=42, shuffle=True, stratify=labels\n",
        ")\n",
        "\n",
        "# Split 80% (train+val) into 60% train and 20% validation\n",
        "train_idx, val_idx = train_test_split(\n",
        "    train_val_idx, test_size=0.25, random_state=42, shuffle=True, stratify=labels[train_val_idx]\n",
        ")\n",
        "# test_size=0.25 ensures val is 20% of total data (20% / 80% = 0.25)\n",
        "\n",
        "# Create Subsets\n",
        "train_ds = Subset(data, train_idx)\n",
        "val_ds = Subset(data, val_idx)\n",
        "test_ds = Subset(data, test_idx)"
      ],
      "metadata": {
        "id": "MwlSDWee1fon"
      },
      "execution_count": null,
      "outputs": []
    },
    {
      "cell_type": "code",
      "source": [
        "# Print dataset sizes\n",
        "print(f\"Train size: {len(train_ds)}\")\n",
        "print(f\"Validation size: {len(val_ds)}\")\n",
        "print(f\"Test size: {len(test_ds)}\")"
      ],
      "metadata": {
        "colab": {
          "base_uri": "https://localhost:8080/"
        },
        "id": "vJ96hjj633UM",
        "outputId": "59293d4e-04b6-4899-b8e4-f2730b598e09"
      },
      "execution_count": null,
      "outputs": [
        {
          "output_type": "stream",
          "name": "stdout",
          "text": [
            "Train size: 15707\n",
            "Validation size: 5236\n",
            "Test size: 5236\n"
          ]
        }
      ]
    },
    {
      "cell_type": "markdown",
      "source": [
        "## Transform data\n",
        "Set up data transformations for train, validation and test datasets. Add data augmentation to data transformation for train. We use the same data transformations for validation and test."
      ],
      "metadata": {
        "id": "PmVUk5AA9alw"
      }
    },
    {
      "cell_type": "code",
      "source": [
        "train_transform = transforms.Compose([\n",
        "    transforms.Resize((256, 256)),\n",
        "    transforms.RandomResizedCrop(224, scale=(0.8, 1.0)),\n",
        "    transforms.RandomHorizontalFlip(p=0.5),\n",
        "    transforms.ToTensor(),\n",
        "    transforms.Normalize(mean=[0.5177272, 0.500307 , 0.4125527], std=[0.27112892, 0.26629838, 0.2833791])\n",
        "])"
      ],
      "metadata": {
        "id": "hEgPXLCV9GGn"
      },
      "execution_count": null,
      "outputs": []
    },
    {
      "cell_type": "code",
      "source": [
        "test_val_transform = transforms.Compose([\n",
        "    transforms.Resize((224, 224)),\n",
        "    transforms.ToTensor(),\n",
        "    transforms.Normalize(mean=[0.5177272, 0.500307 , 0.4125527], std=[0.27112892, 0.26629838, 0.2833791])\n",
        "])"
      ],
      "metadata": {
        "id": "aVPNXW4ujOl3"
      },
      "execution_count": null,
      "outputs": []
    },
    {
      "cell_type": "markdown",
      "source": [
        "Create a class TransformedSubset to apply separate transformation to each subset after split."
      ],
      "metadata": {
        "id": "mpqwqCHfyorh"
      }
    },
    {
      "cell_type": "code",
      "source": [
        "class TransformedSubset(Dataset):\n",
        "    def __init__(self, subset, transform=None):\n",
        "        self.subset = subset\n",
        "        self.transform = transform\n",
        "\n",
        "    def __getitem__(self, index):\n",
        "        x, y = self.subset[index]\n",
        "        if self.transform:\n",
        "            x = self.transform(x)\n",
        "        return x, y\n",
        "\n",
        "    def __len__(self):\n",
        "        return len(self.subset)"
      ],
      "metadata": {
        "id": "bOKW4Bj1ygfG"
      },
      "execution_count": null,
      "outputs": []
    },
    {
      "cell_type": "markdown",
      "source": [
        "Apply data transformations to each subset."
      ],
      "metadata": {
        "id": "W9dYKmNAeOao"
      }
    },
    {
      "cell_type": "code",
      "source": [
        "train_ds = TransformedSubset(train_ds, transform=train_transform)\n",
        "val_ds = TransformedSubset(val_ds, transform=test_val_transform)\n",
        "test_ds = TransformedSubset(test_ds, transform=test_val_transform)"
      ],
      "metadata": {
        "id": "e_ks_HC8FFaZ"
      },
      "execution_count": null,
      "outputs": []
    },
    {
      "cell_type": "markdown",
      "source": [
        "Check size of each dataset after split."
      ],
      "metadata": {
        "id": "gth1CZpWsSyZ"
      }
    },
    {
      "cell_type": "code",
      "source": [
        "len(train_ds), len(val_ds), len(test_ds)"
      ],
      "metadata": {
        "colab": {
          "base_uri": "https://localhost:8080/"
        },
        "id": "YCYb6znssA1s",
        "outputId": "ee569de0-4dbf-4672-b680-e91233f10f17"
      },
      "execution_count": null,
      "outputs": [
        {
          "output_type": "execute_result",
          "data": {
            "text/plain": [
              "(15707, 5236, 5236)"
            ]
          },
          "metadata": {},
          "execution_count": 16
        }
      ]
    },
    {
      "cell_type": "markdown",
      "source": [
        "Make dataloaders for train, validaton and test data to simplify loading process by batches."
      ],
      "metadata": {
        "id": "Brs8LJ3PP32v"
      }
    },
    {
      "cell_type": "code",
      "source": [
        "batch_size = 32\n",
        "\n",
        "train_dl = DataLoader(train_ds, batch_size=batch_size, shuffle=True, num_workers=2, pin_memory=True)\n",
        "val_dl = DataLoader(val_ds, batch_size=batch_size, shuffle=False, num_workers=2, pin_memory=True)\n",
        "test_dl = DataLoader(test_ds, batch_size=batch_size, shuffle=False, num_workers=2, pin_memory=True)"
      ],
      "metadata": {
        "id": "4-m9qHzp3thk"
      },
      "execution_count": null,
      "outputs": []
    },
    {
      "cell_type": "markdown",
      "source": [
        "## Load pretrained ResNet50"
      ],
      "metadata": {
        "id": "ocU_M3XVllBi"
      }
    },
    {
      "cell_type": "code",
      "source": [
        "model = models.resnet50(pretrained=True)\n",
        "for param in model.parameters():\n",
        "    param.requires_grad = False"
      ],
      "metadata": {
        "id": "XI8SztPW2jzz",
        "colab": {
          "base_uri": "https://localhost:8080/"
        },
        "outputId": "557aac3d-71ca-4b91-b01f-26243e4fa8f0"
      },
      "execution_count": null,
      "outputs": [
        {
          "output_type": "stream",
          "name": "stderr",
          "text": [
            "/usr/local/lib/python3.11/dist-packages/torchvision/models/_utils.py:208: UserWarning: The parameter 'pretrained' is deprecated since 0.13 and may be removed in the future, please use 'weights' instead.\n",
            "  warnings.warn(\n",
            "/usr/local/lib/python3.11/dist-packages/torchvision/models/_utils.py:223: UserWarning: Arguments other than a weight enum or `None` for 'weights' are deprecated since 0.13 and may be removed in the future. The current behavior is equivalent to passing `weights=ResNet50_Weights.IMAGENET1K_V1`. You can also use `weights=ResNet50_Weights.DEFAULT` to get the most up-to-date weights.\n",
            "  warnings.warn(msg)\n",
            "Downloading: \"https://download.pytorch.org/models/resnet50-0676ba61.pth\" to /root/.cache/torch/hub/checkpoints/resnet50-0676ba61.pth\n",
            "100%|██████████| 97.8M/97.8M [00:00<00:00, 184MB/s]\n"
          ]
        }
      ]
    },
    {
      "cell_type": "code",
      "source": [
        "# Replace final layer of the model\n",
        "model.fc = nn.Linear(model.fc.in_features, 10)"
      ],
      "metadata": {
        "id": "INCHlLda39xE"
      },
      "execution_count": null,
      "outputs": []
    },
    {
      "cell_type": "code",
      "source": [
        "# Unfreeze deeper layers early\n",
        "for name, param in model.named_parameters():\n",
        "    if \"layer4\" in name or \"layer3\" in name or \"fc\" in name:\n",
        "        param.requires_grad = True"
      ],
      "metadata": {
        "id": "qWYJTR_D1RJe"
      },
      "execution_count": null,
      "outputs": []
    },
    {
      "cell_type": "code",
      "source": [
        "# Optimizer with different LRs\n",
        "fc_params = list(model.fc.parameters())\n",
        "backbone_params = [p for name, p in model.named_parameters() if \"fc\" not in name and p.requires_grad]\n",
        "optimizer = torch.optim.Adam([\n",
        "    {'params': backbone_params, 'lr': 1e-5},\n",
        "    {'params': fc_params, 'lr': 1e-3}\n",
        "], weight_decay=1e-4)"
      ],
      "metadata": {
        "id": "bKziYIMs1VsG"
      },
      "execution_count": null,
      "outputs": []
    },
    {
      "cell_type": "code",
      "source": [
        "scheduler = torch.optim.lr_scheduler.ReduceLROnPlateau(optimizer, mode='min', factor=0.1, patience=3)\n",
        "loss_function = nn.CrossEntropyLoss()"
      ],
      "metadata": {
        "id": "XJKQJZc81ZTx"
      },
      "execution_count": null,
      "outputs": []
    },
    {
      "cell_type": "code",
      "source": [
        "# Initialize model\n",
        "device = torch.device(\"cuda\" if torch.cuda.is_available() else \"cpu\")\n",
        "model = model.to(device)"
      ],
      "metadata": {
        "id": "TlpYGT9DlJmZ"
      },
      "execution_count": null,
      "outputs": []
    },
    {
      "cell_type": "markdown",
      "source": [
        "## Train the model"
      ],
      "metadata": {
        "id": "rzbyJs0oRLmx"
      }
    },
    {
      "cell_type": "code",
      "source": [
        "def evaluate_model(model, dataloader):\n",
        "    model.eval()\n",
        "    all_preds, all_labels, total_loss = [], [], 0\n",
        "    with torch.no_grad():\n",
        "        for x, y in dataloader:\n",
        "            x, y = x.to(device), y.to(device)\n",
        "            out = model(x)\n",
        "            loss = loss_function(out, y)\n",
        "            total_loss += loss.item()\n",
        "            all_preds.extend(torch.argmax(out, dim=1).cpu().numpy())\n",
        "            all_labels.extend(y.cpu().numpy())\n",
        "    return total_loss / len(dataloader), accuracy_score(all_labels, all_preds), f1_score(all_labels, all_preds, average='weighted')"
      ],
      "metadata": {
        "id": "2f0nzpdL-DEG"
      },
      "execution_count": null,
      "outputs": []
    },
    {
      "cell_type": "code",
      "source": [
        "# Training loop\n",
        "epochs = 10\n",
        "best_val_loss = float('inf')\n",
        "best_state = None\n",
        "train_losses, val_losses, train_accs, val_accs, train_f1s, val_f1s = [], [], [], [], [], []\n",
        "\n",
        "for epoch in range(epochs):\n",
        "    model.train()\n",
        "    total_loss, preds, labels = 0, [], []\n",
        "    for x, y in train_dl:\n",
        "        x, y = x.to(device), y.to(device)\n",
        "        optimizer.zero_grad()\n",
        "        out = model(x)\n",
        "        loss = loss_function(out, y)\n",
        "        loss.backward()\n",
        "        optimizer.step()\n",
        "        total_loss += loss.item()\n",
        "        preds.extend(torch.argmax(out, dim=1).cpu().numpy())\n",
        "        labels.extend(y.cpu().numpy())\n",
        "\n",
        "    train_loss = total_loss / len(train_dl)\n",
        "    train_acc = accuracy_score(labels, preds)\n",
        "    train_f1 = f1_score(labels, preds, average='weighted')\n",
        "    val_loss, val_acc, val_f1 = evaluate_model(model, val_dl)\n",
        "    scheduler.step(val_loss)\n",
        "\n",
        "    if val_loss < best_val_loss:\n",
        "        best_val_loss = val_loss\n",
        "        best_state = model.state_dict()\n",
        "\n",
        "    train_losses.append(train_loss)\n",
        "    val_losses.append(val_loss)\n",
        "    train_accs.append(train_acc)\n",
        "    val_accs.append(val_acc)\n",
        "    train_f1s.append(train_f1)\n",
        "    val_f1s.append(val_f1)\n",
        "\n",
        "    print(f\"Epoch {epoch+1}/{epochs} | Train Loss: {train_loss:.4f}, Acc: {train_acc:.4f}, F1: {train_f1:.4f} | \"\n",
        "          f\"Val Loss: {val_loss:.4f}, Acc: {val_acc:.4f}, F1: {val_f1:.4f}\")"
      ],
      "metadata": {
        "id": "H4ZeLyV66Hb-",
        "colab": {
          "base_uri": "https://localhost:8080/"
        },
        "outputId": "8975a5d4-70c5-4387-fa6a-c25b9776effb"
      },
      "execution_count": null,
      "outputs": [
        {
          "output_type": "stream",
          "name": "stdout",
          "text": [
            "Epoch 1/10 | Train Loss: 0.2142, Acc: 0.9387, F1: 0.9386 | Val Loss: 0.0815, Acc: 0.9777, F1: 0.9776\n",
            "Epoch 2/10 | Train Loss: 0.0808, Acc: 0.9750, F1: 0.9750 | Val Loss: 0.0848, Acc: 0.9784, F1: 0.9785\n",
            "Epoch 3/10 | Train Loss: 0.0568, Acc: 0.9815, F1: 0.9815 | Val Loss: 0.0878, Acc: 0.9803, F1: 0.9803\n",
            "Epoch 4/10 | Train Loss: 0.0360, Acc: 0.9890, F1: 0.9890 | Val Loss: 0.0891, Acc: 0.9826, F1: 0.9827\n",
            "Epoch 5/10 | Train Loss: 0.0253, Acc: 0.9918, F1: 0.9918 | Val Loss: 0.0995, Acc: 0.9778, F1: 0.9778\n",
            "Epoch 6/10 | Train Loss: 0.0138, Acc: 0.9963, F1: 0.9963 | Val Loss: 0.0875, Acc: 0.9824, F1: 0.9824\n",
            "Epoch 7/10 | Train Loss: 0.0132, Acc: 0.9959, F1: 0.9959 | Val Loss: 0.0873, Acc: 0.9811, F1: 0.9811\n",
            "Epoch 8/10 | Train Loss: 0.0117, Acc: 0.9962, F1: 0.9962 | Val Loss: 0.0877, Acc: 0.9822, F1: 0.9822\n",
            "Epoch 9/10 | Train Loss: 0.0093, Acc: 0.9975, F1: 0.9975 | Val Loss: 0.0856, Acc: 0.9822, F1: 0.9822\n",
            "Epoch 10/10 | Train Loss: 0.0074, Acc: 0.9980, F1: 0.9980 | Val Loss: 0.0876, Acc: 0.9822, F1: 0.9822\n"
          ]
        }
      ]
    },
    {
      "cell_type": "code",
      "source": [
        "torch.save(best_state, \"best_resnet50_animals10.pth\")"
      ],
      "metadata": {
        "id": "0r-2kemx-wLi"
      },
      "execution_count": null,
      "outputs": []
    },
    {
      "cell_type": "markdown",
      "source": [
        "## Visualise train results"
      ],
      "metadata": {
        "id": "Uj3ch5QeT2bI"
      }
    },
    {
      "cell_type": "markdown",
      "source": [
        "We see that the model shows steady improvement over 10 epochs.\n",
        "- **Training loss** drops from 0.2142 to 0.0074, indicating better learning of the model.\n",
        "- **Training accuracy** rises from 93.87% to 99.80%, and **validation accuracy** from 97.77% to 98.22%, showing good generalization of the model.\n",
        "- **Train F1 score** improves from 93.86% to 99.80%, and **validation F1 score** from 97.76% to 98.22%, which suggests balanced precision and recall."
      ],
      "metadata": {
        "id": "ETVVpbJcaLIP"
      }
    },
    {
      "cell_type": "code",
      "source": [
        "# Plot training metrics\n",
        "plt.figure(figsize=(10, 8))\n",
        "plt.subplot(3, 1, 1)\n",
        "plt.plot(train_losses, label='Train Loss')\n",
        "plt.plot(val_losses, label='Val Loss')\n",
        "plt.legend()\n",
        "plt.grid(True)\n",
        "plt.title('Loss')\n",
        "\n",
        "plt.subplot(3, 1, 2)\n",
        "plt.plot(train_accs, label='Train Acc')\n",
        "plt.plot(val_accs, label='Val Acc')\n",
        "plt.legend()\n",
        "plt.grid(True)\n",
        "plt.title('Accuracy')\n",
        "\n",
        "plt.subplot(3, 1, 3)\n",
        "plt.plot(train_f1s, label='Train F1')\n",
        "plt.plot(val_f1s, label='Val F1')\n",
        "plt.legend()\n",
        "plt.grid(True)\n",
        "plt.title('F1 Score')\n",
        "\n",
        "plt.tight_layout()\n",
        "plt.show()"
      ],
      "metadata": {
        "colab": {
          "base_uri": "https://localhost:8080/",
          "height": 807
        },
        "id": "Tte0C7FIES9s",
        "outputId": "42fa15d2-2918-4871-c150-5cc0fffd0fa8"
      },
      "execution_count": null,
      "outputs": [
        {
          "output_type": "display_data",
          "data": {
            "text/plain": [
              "<Figure size 1000x800 with 3 Axes>"
            ],
            "image/png": "[encoded data removed]"
          },
          "metadata": {}
        }
      ]
    },
    {
      "cell_type": "markdown",
      "source": [
        "## Evaluate the model on test data"
      ],
      "metadata": {
        "id": "PQfPmCJcUlDG"
      }
    },
    {
      "cell_type": "code",
      "source": [
        "model.load_state_dict(torch.load(\"best_resnet50_animals10.pth\"))\n",
        "model.eval()\n",
        "y_true, y_pred = [], []\n",
        "with torch.no_grad():\n",
        "    for x, y in test_dl:\n",
        "        x, y = x.to(device), y.to(device)\n",
        "        out = model(x)\n",
        "        pred = torch.argmax(out, dim=1)\n",
        "        y_true.extend(y.cpu().numpy())\n",
        "        y_pred.extend(pred.cpu().numpy())\n",
        "\n",
        "print(classification_report(y_true, y_pred, target_names=data.classes))"
      ],
      "metadata": {
        "colab": {
          "base_uri": "https://localhost:8080/"
        },
        "id": "w5wSiRW5T157",
        "outputId": "44501bd6-f954-4592-f282-74ff59653322"
      },
      "execution_count": null,
      "outputs": [
        {
          "output_type": "stream",
          "name": "stdout",
          "text": [
            "              precision    recall  f1-score   support\n",
            "\n",
            "         dog       0.98      0.98      0.98       973\n",
            "       horse       0.98      0.98      0.98       525\n",
            "    elephant       0.99      0.97      0.98       289\n",
            "   butterfly       0.98      0.99      0.98       422\n",
            "     chicken       0.99      0.99      0.99       620\n",
            "         cat       0.98      0.98      0.98       334\n",
            "         cow       0.98      0.94      0.96       373\n",
            "       sheep       0.94      0.97      0.96       364\n",
            "      spider       1.00      0.99      1.00       964\n",
            "    squirrel       0.98      0.98      0.98       372\n",
            "\n",
            "    accuracy                           0.98      5236\n",
            "   macro avg       0.98      0.98      0.98      5236\n",
            "weighted avg       0.98      0.98      0.98      5236\n",
            "\n"
          ]
        }
      ]
    },
    {
      "cell_type": "markdown",
      "source": [
        "- Overall accuracy of 98% on test data indicats very good performance.\n",
        "- **Best performing classes** are **spider** (F1: 1.00) and **chicken** (F1 score: 0.99).\n",
        "- **Worst performing classes** are **cow** (F1: 0.96) and **sheep** (F1: 0.96)."
      ],
      "metadata": {
        "id": "kbjk8QxncvBY"
      }
    },
    {
      "cell_type": "code",
      "source": [
        "cm = confusion_matrix(y_true, y_pred)\n",
        "sns.heatmap(cm, annot=True, fmt=\"d\", cmap=\"Blues\", xticklabels=data.classes, yticklabels=data.classes)\n",
        "plt.xlabel(\"Predicted\")\n",
        "plt.ylabel(\"True\")\n",
        "plt.title(\"Confusion Matrix\")\n",
        "plt.show()"
      ],
      "metadata": {
        "colab": {
          "base_uri": "https://localhost:8080/",
          "height": 519
        },
        "id": "hjyGgwPyYXGl",
        "outputId": "358712b4-c7df-406b-d7ef-e6cbee1ab4fe"
      },
      "execution_count": null,
      "outputs": [
        {
          "output_type": "display_data",
          "data": {
            "text/plain": [
              "<Figure size 640x480 with 2 Axes>"
            ],
            "image/png": "[encoded data removed]"
          },
          "metadata": {}
        }
      ]
    }
  ]
}